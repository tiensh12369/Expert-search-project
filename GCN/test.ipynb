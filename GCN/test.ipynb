{
 "cells": [
  {
   "cell_type": "code",
   "execution_count": 15,
   "metadata": {},
   "outputs": [
    {
     "name": "stdout",
     "output_type": "stream",
     "text": [
      "1807\n",
      "1\n"
     ]
    }
   ],
   "source": [
    "import json\n",
    "\n",
    "answer = None\n",
    "numCor = 0\n",
    "\n",
    "def ansCheck(result, name) :\n",
    "    global answer, numCor\n",
    "    flag = True\n",
    "    numK = len(result.keys())\n",
    "    for site in result.keys() :\n",
    "        if site != 'name' :\n",
    "            if site not in answer[name].keys() :\n",
    "                flag = False\n",
    "            else: \n",
    "                if numK > 2:\n",
    "                    if answer[name][site] != result[site].split(' ')[0] :\n",
    "                        flag = False\n",
    "                else :\n",
    "                    if answer[name][site] != result[site] :\n",
    "                        flag = False\n",
    "    if flag :\n",
    "        numCor += 1\n",
    "    else :\n",
    "        print(f\"Not Correct \\n - Answer : {answer[name]}\\n - Result : {test}\")\n",
    "    return flag\n",
    "\n",
    "with open('answer.json', 'r',encoding='UTF8') as a_json :\n",
    "\n",
    "\n",
    "    answer = json.load(a_json)\n",
    "    numAns = print(len(answer))\n",
    "    test = {'name': 'Ji-Hong Kim', 'DBPIA': '서울대학교 컴퓨터공학부'}\n",
    "    #test = {'name' : '유재수','NTIS': '충북대학교', 'DBPIA': '충북대학교', 'Scienceon': '충북대학교 정보통신공학'}\n",
    "    #test = { 'name' : '한정훈', 'DBPIA': '한국농촌경제연구원'}\n",
    "    #test = { 'name' : '한정훈', 'DBPIA': '한국사회체육학회'}\n",
    "\n",
    "\n",
    "    name = test['name']\n",
    "    if name in answer :\n",
    "        ansCheck(test, name)\n",
    "\n",
    "    else :\n",
    "        count = 0\n",
    "        while name+str(count) in answer :\n",
    "            # if name+count in answer :\n",
    "            print(f\"Check {name+str(count)}\")\n",
    "            if ansCheck(test, name+str(count)) :\n",
    "                break\n",
    "            count += 1\n",
    "\n",
    "    print(numCor)\n"
   ]
  },
  {
   "cell_type": "code",
   "execution_count": null,
   "metadata": {},
   "outputs": [],
   "source": []
  }
 ],
 "metadata": {
  "interpreter": {
   "hash": "cdf73ddbb11656ccb4f83fa39c2fccb15cf65fd8abf51e8fe1e9c378296945fc"
  },
  "kernelspec": {
   "display_name": "Python 3.9.2 64-bit ('sg2': conda)",
   "name": "python3"
  },
  "language_info": {
   "codemirror_mode": {
    "name": "ipython",
    "version": 3
   },
   "file_extension": ".py",
   "mimetype": "text/x-python",
   "name": "python",
   "nbconvert_exporter": "python",
   "pygments_lexer": "ipython3",
   "version": "3.9.2"
  },
  "orig_nbformat": 4
 },
 "nbformat": 4,
 "nbformat_minor": 2
}
