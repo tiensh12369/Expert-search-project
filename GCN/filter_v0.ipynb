{
 "cells": [
  {
   "cell_type": "code",
   "execution_count": 24,
   "metadata": {},
   "outputs": [],
   "source": [
    "site1 = 'Scienceon'\n",
    "site2 = 'Scienceon'\n",
    "input_row1 = ObjectId('61939443e9b04a9d64abe055')\n",
    "input_row2 = ObjectId('61939447e9b04a9d64abe06a')\n",
    "\n",
    "def test_filter(site1, input_row1, site2, input_row2):\n",
    "    client = MongoClient('mongodb://203.255.92.141:27017', authSource='admin')\n",
    "    \n",
    "    if site1 == 'Scienceon' :\n",
    "        site_raw1 = client['SCIENCEON']['Rawdata']\n",
    "    elif site1 == 'NTIS' :\n",
    "        site_raw1 = client['NTIS']['Rawdata']\n",
    "    elif site1 == 'DBPIA' :\n",
    "        site_raw1 = client['DBPIA']['Rawdata']\n",
    "\n",
    "    if site2 == 'Scienceon' :\n",
    "        site_raw2 = client['SCIENCEON']['Rawdata']\n",
    "    elif site2 == 'NTIS' :\n",
    "        site_raw2 = client['NTIS']['Rawdata']\n",
    "    elif site2 == 'DBPIA' :\n",
    "        site_raw2 = client['DBPIA']['Rawdata']\n",
    "\n",
    "    input_row1 = site_raw1.find({ '_id' : input_row1 })\n",
    "    input_row2 = site_raw2.find({ '_id' : input_row2 })\n",
    "\n",
    "    # ScienceON / DBPIA\n",
    "    for row_one1 in input_row1:\n",
    "        for row_one2 in input_row2:\n",
    "\n",
    "            if site1 == 'NTIS' :\n",
    "                #NTIS \n",
    "                print('ntis')\n",
    "                if site2 == 'NTIS' :\n",
    "                    #NTIS\n",
    "                    print('ntis')\n",
    "                else:\n",
    "                    journal2 = row_one2.get('journal')\n",
    "                    issInst2 = row_one2.get('issue_inst')\n",
    "                    issYear2 = int(row_one2.get('issue_year')[:4])\n",
    "\n",
    "            else:\n",
    "                    \n",
    "                    journal1 = row_one1.get('journal')\n",
    "                    issInst1 = row_one1.get('issue_inst')\n",
    "                    issYear1 = int(row_one1.get('issue_year')[:4])\n",
    "\n",
    "                if site2 == 'NTIS' :\n",
    "                    #NTIS\n",
    "                    print('ntis')\n",
    "                else:\n",
    "                    journal2 = row_one2.get('journal')\n",
    "                    issInst2 = row_one2.get('issue_inst')\n",
    "                    issYear2 = int(row_one2.get('issue_year')[:4])\n",
    "\n",
    "  \n",
    "            weight = 0\n",
    "            \n",
    "            if journal1 == journal2 and issInst1 == issInst2:\n",
    "                weight += 1\n",
    "            else:\n",
    "                weight -= 1\n",
    "            \n",
    "            Yop = -(2*((i_issYear-j_issYear)/2010)-1) #\n",
    "            \n",
    "            weight += Yop\n",
    "            \n",
    "            # print(i_journal, j_journal)\n",
    "            # print(i_issInst, j_issInst)\n",
    "            #print(weight)\n",
    "            # print(i_issYear)\n",
    "            # print(j_issYear)\n",
    "            #print(Yop)\n",
    "    return weight"
   ]
  },
  {
   "cell_type": "code",
   "execution_count": 25,
   "metadata": {},
   "outputs": [
    {
     "name": "stdout",
     "output_type": "stream",
     "text": [
      "2.000995024875622\n"
     ]
    }
   ],
   "source": [
    "print(test_filter(site1, input_row1, site2, input_row2))"
   ]
  },
  {
   "cell_type": "code",
   "execution_count": null,
   "metadata": {},
   "outputs": [],
   "source": []
  }
 ],
 "metadata": {
  "interpreter": {
   "hash": "9426c78cac494a5ae5a22e0d5f8fa48da7e4c0f608effbd156736920c37fea9b"
  },
  "kernelspec": {
   "display_name": "Python 3.8.0 64-bit ('mlearn': conda)",
   "language": "python",
   "name": "python3"
  },
  "language_info": {
   "codemirror_mode": {
    "name": "ipython",
    "version": 3
   },
   "file_extension": ".py",
   "mimetype": "text/x-python",
   "name": "python",
   "nbconvert_exporter": "python",
   "pygments_lexer": "ipython3",
   "version": "3.6.8"
  },
  "orig_nbformat": 4
 },
 "nbformat": 4,
 "nbformat_minor": 2
}
