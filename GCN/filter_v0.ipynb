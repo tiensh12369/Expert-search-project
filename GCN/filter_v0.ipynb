{
 "cells": [
  {
   "cell_type": "code",
   "execution_count": 54,
   "metadata": {},
   "outputs": [],
   "source": [
    "from bson.objectid import ObjectId\n",
    "from pymongo import MongoClient\n",
    "import numpy as np\n",
    "\n",
    "def test_filter(site1, input_raw1, site2, input_raw2):\n",
    "\n",
    "    for raw_one1 in input_raw1:\n",
    "        for raw_one2 in input_raw2:\n",
    "\n",
    "            if site1 == 'NTIS' :\n",
    "                #NTIS \n",
    "                print('ntis')\n",
    "                if raw_one1.get('rsc') == None:\n",
    "                    coauthor1 = 0\n",
    "                else:\n",
    "                    coauthor1 = raw_one1.get('rsc').split(\";\")\n",
    "\n",
    "                if raw_one1.get('koKeyword') == None:\n",
    "                    keyword1 = \"\"\n",
    "                else:\n",
    "                    keyword1 = raw_one1.get('koKeyword')\n",
    "\n",
    "            else:\n",
    "                journal1 = raw_one1.get('journal')\n",
    "                issInst1 = raw_one1.get('issue_inst')\n",
    "                issYear1 = int(raw_one1.get('issue_year')[:4])\n",
    "                coauthor1 = raw_one1.get('author').split(\";\")[1:-1]\n",
    "                keyword1 = raw_one1.get('paper_keyword')\n",
    "\n",
    "            if site2 == 'NTIS' :\n",
    "                #NTIS\n",
    "                print('ntis')\n",
    "                if raw_one2.get('rsc') == None:\n",
    "                    coauthor2 = 0\n",
    "                else:\n",
    "                    coauthor2 = raw_one2.get('rsc').split(\";\")\n",
    "\n",
    "                if raw_one2.get('koKeyword') == None:\n",
    "                    keyword2 = \"\"\n",
    "                else:\n",
    "                    keyword2 = raw_one2.get('koKeyword')\n",
    "\n",
    "            else:\n",
    "                journal2 = raw_one2.get('journal')\n",
    "                issInst2 = raw_one2.get('issue_inst')\n",
    "                issYear2 = int(raw_one2.get('issue_year')[:4])\n",
    "                coauthor2 = raw_one2.get('author').split(\";\")[1:-1]\n",
    "                keyword2 = raw_one2.get('paper_keyword')\n",
    "\n",
    "            weight = 0\n",
    "            \n",
    "            if journal1 == journal2 and issInst1 == issInst2:\n",
    "                weight += 1\n",
    "            else:\n",
    "                weight -= 1\n",
    "            \n",
    "            Yop = -(2*((issYear1-issYear2)/10)-1)\n",
    "            co_authorship = 1 - np.exp(-len([i for i in coauthor1 if i in coauthor2]))\n",
    "            keyword = 1 - np.exp(-len([i for i in keyword1 if i in keyword2]))\n",
    "\n",
    "            weight += Yop + co_authorship + keyword\n",
    "\n",
    "    return weight"
   ]
  },
  {
   "cell_type": "code",
   "execution_count": 55,
   "metadata": {},
   "outputs": [
    {
     "name": "stdout",
     "output_type": "stream",
     "text": [
      "{'_id': ObjectId('61939443e9b04a9d64abe055'), 'qryKeyword': ['빅데이터', '소셜네트워크'], 'qryTime': '202111162021', 'keyId': 588, 'loop': 4, 'issue_inst': '한국콘텐츠학회', 'journal': '한국콘텐츠학회논문지 = The Journal of the Korea Contents Association', 'issue_year': '2019', 'id': 'JAKO201909469054948', 'title': '온라인 쇼핑몰에서 상품 신뢰도를 고려한 개인화 추천', 'english_title': 'Personalized Recommendation Considering Item Confidence in E-Commerce', 'abstract': '온라인 쇼핑몰의 대중화로 인해 소비자는 폭 넓은 소비의 기회를 제공받고 있다. 소비자들은 온라인 쇼핑몰에서 제공되는 실제 상품을 구매한 사용자의 리뷰, 상품의 자세한 정보와 같은 정보를 활용하여 상품의 구매 여부를 결정한다. 방대한 정보가 신뢰할 수 있는 정보인지는 소비자들이 스스로 판단해야만하기 때문에 객관적이며 신뢰할 수 있는 정보의 제공이 필요하다. 본 논문에서는 신뢰할 수 있는 상품의 추천을 위해서 상품의 신뢰도를 고려한 개인화된 추천 기법을 제안한다. 제안하는 추천 기법은 개인화 추천을 위해서 사용자의 다양한 행위를 기반으로 사용자의 선호도를 판별한다. 또한, 최신의 성향을 반영하기 위해서 시간 가중치를 고려한 사용자 선호도 계산 방법을 제안한다. 마지막으로 사용자가 사용하지 않았던 상품에 대한 선호 점수를 예측하고 예측 점수가 높은 상품 중 신뢰도가 높은 상품들을 추천한다.', 'english_abstract': '', 'citation': 0, 'author': '최도진;박재열;박수빈;임종태;송재오;복경수;유재수;', 'author_inst': '충북대학교 정보통신공학과;충북대학교 정보통신공학과;충북대학교 빅데이터협동과정;충북대학교 정보통신공학과;(주) 제오시스 기업부설연구소;충북대학교 정보통신공학과;충북대학교 정보통신공학과;', 'start_page': '171', 'end_page': '182', 'paper_keyword': '온라인 쇼핑몰 . 상품 신뢰도 . 개인화 추천 . 협업 필터링 . 소셜 네트워크 서비스', 'issue_lang': 'kor', 'progress': 0.006666666666666667, 'author_id': 's259546;s258762;s261641;s258361;s261642;s258056;s258057'}\n",
      "4.064664716763385\n"
     ]
    }
   ],
   "source": [
    "client = MongoClient('mongodb://203.255.92.141:27017', authSource='admin')\n",
    "\n",
    "site1 = 'Scienceon'\n",
    "site2 = 'Scienceon'\n",
    "input_paper1 = ObjectId('61939443e9b04a9d64abe055')\n",
    "input_paper2 = ObjectId('61939447e9b04a9d64abe06a')\n",
    "\n",
    "if site1 == 'Scienceon' :\n",
    "    site_raw1 = client['SCIENCEON']['Rawdata']\n",
    "elif site1 == 'NTIS' :\n",
    "    site_raw1 = client['NTIS']['Rawdata']\n",
    "elif site1 == 'DBPIA' :\n",
    "    site_raw1 = client['DBPIA']['Rawdata']\n",
    "\n",
    "if site2 == 'Scienceon' :\n",
    "    site_raw2 = client['SCIENCEON']['Rawdata']\n",
    "elif site2 == 'NTIS' :\n",
    "    site_raw2 = client['NTIS']['Rawdata']\n",
    "elif site2 == 'DBPIA' :\n",
    "    site_raw2 = client['DBPIA']['Rawdata']\n",
    "\n",
    "input_raw1 = site_raw1.find({ '_id' : input_paper1 })\n",
    "input_raw2 = site_raw2.find({ '_id' : input_paper2 })\n",
    "\n",
    "print(test_filter(site1, input_raw1, site2, input_raw2))"
   ]
  }
 ],
 "metadata": {
  "interpreter": {
   "hash": "9426c78cac494a5ae5a22e0d5f8fa48da7e4c0f608effbd156736920c37fea9b"
  },
  "kernelspec": {
   "display_name": "Python 3.8.0 64-bit ('mlearn': conda)",
   "language": "python",
   "name": "python3"
  },
  "language_info": {
   "codemirror_mode": {
    "name": "ipython",
    "version": 3
   },
   "file_extension": ".py",
   "mimetype": "text/x-python",
   "name": "python",
   "nbconvert_exporter": "python",
   "pygments_lexer": "ipython3",
   "version": "3.6.8"
  },
  "orig_nbformat": 4
 },
 "nbformat": 4,
 "nbformat_minor": 2
}
