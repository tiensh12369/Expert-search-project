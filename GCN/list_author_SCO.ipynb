{
 "cells": [
  {
   "cell_type": "code",
   "execution_count": 86,
   "metadata": {},
   "outputs": [],
   "source": [
    "from pymongo import MongoClient\n",
    "client = MongoClient('mongodb://203.255.92.141:27017', authSource='admin')\n",
    "scienceon_rowdata = client['SCIENCEON']['Rawdata']\n",
    "\n",
    "keyid = 587 #input\n",
    "\n",
    "key_query = scienceon_rowdata.find({ 'keyId' : keyid })\n",
    "sco_author = ''\n",
    "sco_inst = ''\n",
    "\n",
    "for j in key_query:\n",
    "    for i in range(len(j['author'].split(';'))):\n",
    "        sco_author = j['author'].split(';')[i]\n",
    "        sco_inst = j['author_inst'].split(';')[i]\n",
    "        print(sco_author, sco_inst)\n",
    "    "
   ]
  },
  {
   "cell_type": "code",
   "execution_count": 91,
   "metadata": {},
   "outputs": [
    {
     "name": "stdout",
     "output_type": "stream",
     "text": [
      "['587_DBPIA.txt', '587_DBPIA_answer.txt', '587_kci.txt', '587_merge.txt', '587_ntis.txt', '587_ntis_answer.txt', '587_sco.txt', '587_sco_answer.txt']\n"
     ]
    }
   ],
   "source": [
    "import os\n",
    "\n",
    "sites = ['587_DBPIA.txt', '587_sco.txt', '587_ntis.txt' ]\n",
    "answers = ['587_DBPIA_answer.txt', '587_sco_answer.txt', '587_ntis_answer.txt' ]\n",
    "name = ''\n",
    "inst = ''\n",
    "\n",
    "for i in range(0, len(sites)):\n",
    "\n",
    "    f = open(sites[i], 'r', encoding=\"UTF-8\")\n",
    "    lines = f.readlines()\n",
    "\n",
    "    for line in lines:\n",
    "        name = line.split(',')[0]\n",
    "        inst = line.split(',')[1].replace(\"\\n\",\"\")\n",
    "        data = ('\"%s\" : {\"Scienceon\" : \"%s\"}\\n') % (name, inst)\n",
    "\n",
    "        f1 = open(answers[i], 'a', encoding=\"UTF-8\")\n",
    "        f1.write(data)\n",
    "        f1.close\n",
    "\n",
    "    f.close()\n",
    "\n",
    "path = './' # 폴더 경로\n",
    "os.chdir(path) # 해당 폴더로 이동\n",
    "file_list = os.listdir(path)\n",
    "file_list_py = [file for file in file_list if file.endswith(\".txt\")]\n",
    "print(file_list_py)"
   ]
  },
  {
   "cell_type": "code",
   "execution_count": 96,
   "metadata": {},
   "outputs": [
    {
     "name": "stdout",
     "output_type": "stream",
     "text": [
      "['587_DBPIA.txt', '587_DBPIA_answer.txt', '587_kci.txt', '587_ntis.txt', '587_ntis_answer.txt', '587_sco.txt', '587_sco_answer.txt']\n"
     ]
    }
   ],
   "source": [
    "import os\n",
    "\n",
    "sites = ['587_DBPIA.txt', '587_sco.txt', '587_ntis.txt' ]\n",
    "answers = ['587_DBPIA_answer.txt', '587_sco_answer.txt', '587_ntis_answer.txt' ]\n",
    "site = ['DBPIA', 'Scienceon', 'NTIS']\n",
    "name = ''\n",
    "inst = ''\n",
    "\n",
    "for i in range(0, len(sites)):\n",
    "\n",
    "    f = open(sites[i], 'r', encoding=\"UTF-8\")\n",
    "    lines = f.readlines()\n",
    "\n",
    "    for line in lines:\n",
    "        name = line.split(',')[0]\n",
    "        inst = line.split(',')[1].replace(\"\\n\",\"\")\n",
    "        data = ('\"%s\" : {\"%s\" : \"%s\"}\\n') % (name, site[i], inst)\n",
    "\n",
    "        f1 = open(answers[i], 'a', encoding=\"UTF-8\")\n",
    "        f1.write(data)\n",
    "        f1.close\n",
    "\n",
    "    f.close()\n",
    "\n",
    "path = './' # 폴더 경로\n",
    "os.chdir(path) # 해당 폴더로 이동\n",
    "file_list = os.listdir(path)\n",
    "file_list_py = [file for file in file_list if file.endswith(\".txt\")]\n",
    "print(file_list_py)"
   ]
  },
  {
   "cell_type": "code",
   "execution_count": null,
   "metadata": {},
   "outputs": [],
   "source": []
  }
 ],
 "metadata": {
  "interpreter": {
   "hash": "585faf38c955f8b8b4c65826ea92b635b489103704cbd270d7c8b9cd64b78f88"
  },
  "kernelspec": {
   "display_name": "Python 3.6.8 64-bit ('craw': conda)",
   "name": "python3"
  },
  "language_info": {
   "codemirror_mode": {
    "name": "ipython",
    "version": 3
   },
   "file_extension": ".py",
   "mimetype": "text/x-python",
   "name": "python",
   "nbconvert_exporter": "python",
   "pygments_lexer": "ipython3",
   "version": "3.6.8"
  },
  "orig_nbformat": 4
 },
 "nbformat": 4,
 "nbformat_minor": 2
}
