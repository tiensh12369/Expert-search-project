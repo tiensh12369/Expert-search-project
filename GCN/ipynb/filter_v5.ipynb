{
 "cells": [
  {
   "cell_type": "markdown",
   "metadata": {},
   "source": [
    "v0: DBPIA, Scienceon Rule계산(Yop + co_authorship + keyword)\n",
    "v1: title 조건 추가, jaro_winkler_metric 추가\n",
    "v2: site 조건 변경\n",
    "v3: Rule계산(joc + yop + title_cossim + abstract_cossim) 추가, TF-IDF 추가, 교신저자 비교\n",
    "v4: co_authorship 비율추가\n",
    "v5: site 조건 수정, 함수/변수이름 변경, filter 함수 추가, title_cossim + abstract_cossim 삭제"
   ]
  },
  {
   "cell_type": "code",
   "execution_count": 5,
   "metadata": {},
   "outputs": [],
   "source": [
    "from bson.objectid import ObjectId\n",
    "from pymongo import MongoClient\n",
    "import numpy as np\n",
    "from numpy import dot\n",
    "from numpy.linalg import norm\n",
    "import jaro\n",
    "from sklearn.feature_extraction.text import TfidfVectorizer\n",
    "\n",
    "def filter(site, rawdata):\n",
    "    if site == 'NTIS' :\n",
    "        inst = rawdata['ldAgency']\n",
    "        coauthor = rawdata['rsc'].split(\";\")\n",
    "        year = int(rawdata['prdStart'][:4])\n",
    "        keyword = rawdata['koKeyword'].split(\",\")\n",
    "        journal = \"\"\n",
    "        conference = \"\"\n",
    "        title = \"\"\n",
    "        mng = rawdata['mng']\n",
    "\n",
    "    else :\n",
    "        inst = rawdata['author_inst'].split(\";\")[rawdata['author'].split(\";\").index(name)]\n",
    "        coauthor = rawdata['author'].split(\";\")[1:-1]\n",
    "        year = int(rawdata['issue_year'][:4])\n",
    "        keyword = rawdata['paper_keyword'].replace(\" \", \"\").split(\".\")\n",
    "        journal = rawdata['journal']\n",
    "        conference = rawdata['issue_inst']\n",
    "        title = rawdata['title']\n",
    "        mng = rawdata['author'].split(\";\")[-1]\n",
    "        #abstract = rawdata['abstract']\n",
    "\n",
    "    return inst, coauthor, year, keyword, journal, conference, title, mng\n",
    "    #return inst, coauthor, year, keyword, journal, conference, title, mng, abstract\n",
    "\n",
    "def Secondary_filter(name, site1, raw_one1, site2, raw_one2):\n",
    "    inst1, coauthor1, year1, keyword1, journal1, conference1, title1, mng1 = filter(site1, raw_one1)\n",
    "    inst2, coauthor2, year2, keyword2, journal2, conference2, title2, mng2 = filter(site2, raw_one2)\n",
    "    print(inst1, inst2)\n",
    "    \n",
    "    inst = jaro.jaro_winkler_metric(inst1, inst2)\n",
    "    print(inst)\n",
    "    weight = 0\n",
    "    joc = 0\n",
    "    \n",
    "    if name in coauthor1:\n",
    "        coauthor1.remove(name)\n",
    "\n",
    "    if name in coauthor2:\n",
    "        coauthor2.remove(name)\n",
    "\n",
    "    co_author_count = len([i for i in coauthor1 if i in coauthor2])\n",
    "\n",
    "    if site1 != 'NTIS' and site2 != 'NTIS' :\n",
    "        if title1 == title2  or inst >= 0.8:\n",
    "            weight = 4\n",
    "            return weight\n",
    "\n",
    "        else:\n",
    "            joc = 1 if journal1 == journal2 and conference1 == conference2 else -1\n",
    "    else:\n",
    "        if inst >= 0.8:\n",
    "            weight = 3\n",
    "            return weight\n",
    "            \n",
    "    yop = -(2*(abs(year1-year2)/10)-1)\n",
    "            \n",
    "    if len(coauthor1) > len(coauthor2):\n",
    "        co_author_ratio = co_author_count/len(coauthor1)\n",
    "    else:\n",
    "        co_author_ratio = co_author_count/len(coauthor2)\n",
    "                \n",
    "    co_authorship = (1 - np.exp(-co_author_count))/2 + (co_author_ratio/2)\n",
    "    keyword = 1 - np.exp(-len([i for i in keyword1 if i in keyword2]))\n",
    "\n",
    "    print(f'joc: {joc} | yop: {yop} | co_authorship: {co_authorship} | keyword: {keyword}')\n",
    "\n",
    "    weight = joc + yop + co_authorship + keyword\n",
    "\n",
    "    return weight"
   ]
  },
  {
   "cell_type": "code",
   "execution_count": 7,
   "metadata": {},
   "outputs": [
    {
     "name": "stdout",
     "output_type": "stream",
     "text": [
      "광주과학기술원 전남대학교\n",
      "0.44761904761904764\n",
      "joc: 1 | yop: 1.0 | co_authorship: 0.0 | keyword: 0.6321205588285577\n"
     ]
    },
    {
     "data": {
      "text/plain": [
       "2.6321205588285577"
      ]
     },
     "execution_count": 7,
     "metadata": {},
     "output_type": "execute_result"
    }
   ],
   "source": [
    "client = MongoClient('mongodb://203.255.92.141:27017', authSource='admin')\n",
    "\n",
    "name = '김희숙'\n",
    "site1 = 'KCI'\n",
    "site2 = 'KCI'\n",
    "input_paper1 = ObjectId('61ce98c10f91d3fd2b7cab65')\n",
    "input_paper2 = ObjectId('61ce98ce0f91d3fd2b7cab7f')\n",
    "\n",
    "if site1 == 'Scienceon' :\n",
    "    site_raw1 = client['SCIENCEON']['Rawdata']\n",
    "elif site1 == 'NTIS' :\n",
    "    site_raw1 = client['NTIS']['Rawdata']\n",
    "elif site1 == 'KCI' :\n",
    "    site_raw1 = client['KCI']['Rawdata']\n",
    "\n",
    "if site2 == 'Scienceon' :\n",
    "    site_raw2 = client['SCIENCEON']['Rawdata']\n",
    "elif site2 == 'NTIS' :\n",
    "    site_raw2 = client['NTIS']['Rawdata']\n",
    "elif site2 == 'KCI' :\n",
    "    site_raw2 = client['KCI']['Rawdata']\n",
    "\n",
    "input_raw1 = site_raw1.find_one({ '_id' : input_paper1 })\n",
    "input_raw2 = site_raw2.find_one({ '_id' : input_paper2 })\n",
    "\n",
    "Secondary_filter(name, site1, input_raw1, site2, input_raw2)"
   ]
  },
  {
   "cell_type": "code",
   "execution_count": null,
   "metadata": {},
   "outputs": [],
   "source": []
  }
 ],
 "metadata": {
  "interpreter": {
   "hash": "9426c78cac494a5ae5a22e0d5f8fa48da7e4c0f608effbd156736920c37fea9b"
  },
  "kernelspec": {
   "display_name": "Python 3.8.0 64-bit ('mlearn': conda)",
   "language": "python",
   "name": "python3"
  },
  "language_info": {
   "codemirror_mode": {
    "name": "ipython",
    "version": 3
   },
   "file_extension": ".py",
   "mimetype": "text/x-python",
   "name": "python",
   "nbconvert_exporter": "python",
   "pygments_lexer": "ipython3",
   "version": "3.6.8"
  },
  "orig_nbformat": 4
 },
 "nbformat": 4,
 "nbformat_minor": 2
}
