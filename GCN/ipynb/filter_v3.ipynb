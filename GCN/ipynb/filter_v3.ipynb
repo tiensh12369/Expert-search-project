{
 "cells": [
  {
   "cell_type": "code",
   "execution_count": 40,
   "metadata": {},
   "outputs": [],
   "source": [
    "from bson.objectid import ObjectId\n",
    "from pymongo import MongoClient\n",
    "import numpy as np\n",
    "from numpy import dot\n",
    "from numpy.linalg import norm\n",
    "import jaro\n",
    "from sklearn.feature_extraction.text import TfidfVectorizer\n",
    "\n",
    "def cos_sim(A):\n",
    "  return dot(A[0], A[1])/(norm(A[0])*norm(A[1]))\n",
    "\n",
    "def test_filter(name, site1, raw_one1, site2, raw_one2):\n",
    "\n",
    "    if site1 != 'NTIS' and site2 != 'NTIS':\n",
    "        author_inst1 = raw_one1['author_inst'].split(\";\")[raw_one1['author'].split(\";\").index(name)]\n",
    "        author_inst2 = raw_one2['author_inst'].split(\";\")[raw_one2['author'].split(\";\").index(name)]\n",
    "        coauthor1 = raw_one1['author'].split(\";\")[1:-1]\n",
    "        coauthor2 = raw_one2['author'].split(\";\")[1:-1]\n",
    "\n",
    "        inst = jaro.jaro_winkler_metric(author_inst1, author_inst2)\n",
    "        weight = 0\n",
    "\n",
    "        if raw_one1['title'] == raw_one2['title'] or coauthor1[-1] in coauthor2 or coauthor2[-1] in coauthor1: or inst >= 0.8:\n",
    "            weight = 6 #6\n",
    "        else:\n",
    "            journal1 = raw_one1['journal']\n",
    "            conference1 = raw_one1['issue_inst']\n",
    "            issYear1 = int(raw_one1['issue_year'][:4])\n",
    "            \n",
    "            keyword1 = raw_one1['paper_keyword'].replace(\" \", \"\").split(\".\")\n",
    "\n",
    "            journal2 = raw_one2['journal']\n",
    "            conference2 = raw_one2['issue_inst']\n",
    "            issYear2 = int(raw_one2['issue_year'][:4])\n",
    "            \n",
    "            keyword2 = raw_one2['paper_keyword'].replace(\" \", \"\").split(\".\")\n",
    "\n",
    "            joc = 1 if journal1 == journal2 and conference1 == conference2 else -1\n",
    "            yop = -(2*(abs(issYear1-issYear2)/10)-1)\n",
    "            co_authorship = 1 - np.exp(-len([i for i in coauthor1 if i in coauthor2]))\n",
    "            keyword = 1 - np.exp(-len([i for i in keyword1 if i in keyword2]))\n",
    "\n",
    "            title1 = raw_one1['title']\n",
    "            title2 = raw_one2['title']\n",
    "\n",
    "            title_corpus = [title1, title2]\n",
    "            title_tfidfv = TfidfVectorizer().fit(title_corpus)\n",
    "            title_cossim = cos_sim(title_tfidfv.transform(title_corpus).toarray())\n",
    "\n",
    "            abstract1 = raw_one1['abstract']\n",
    "            abstract2 = raw_one2['abstract']\n",
    "            \n",
    "            if abstract1 == 'null' or abstract2 == 'null':\n",
    "                abstract_cossim = 0\n",
    "            else:\n",
    "                abstract_corpus = [abstract1, abstract2]\n",
    "                abstract_tfidfv = TfidfVectorizer().fit(abstract_corpus)\n",
    "                abstract_cossim = cos_sim(abstract_tfidfv.transform(abstract_corpus).toarray())\n",
    "\n",
    "            print(f'joc: {joc} | yop: {yop} | co_authorship: {co_authorship} | keyword: {keyword} | title: {title_cossim} | abstract: {abstract_cossim}')\n",
    "\n",
    "            weight += joc + yop + co_authorship + keyword + title_cossim + abstract_cossim\n",
    "    else:\n",
    "        weight = 0\n",
    "        print('NTIS는 개발중')\n",
    "\n",
    "    return weight"
   ]
  },
  {
   "cell_type": "code",
   "execution_count": 41,
   "metadata": {},
   "outputs": [
    {
     "data": {
      "text/plain": [
       "6"
      ]
     },
     "execution_count": 41,
     "metadata": {},
     "output_type": "execute_result"
    }
   ],
   "source": [
    "client = MongoClient('mongodb://203.255.92.141:27017', authSource='admin')\n",
    "\n",
    "name = '최도진'\n",
    "site1 = 'Scienceon'\n",
    "site2 = 'Scienceon'\n",
    "input_paper1 = ObjectId('61939443e9b04a9d64abe055')\n",
    "input_paper2 = ObjectId('61939447e9b04a9d64abe06a')\n",
    "\n",
    "if site1 == 'Scienceon' :\n",
    "    site_raw1 = client['SCIENCEON']['Rawdata']\n",
    "elif site1 == 'NTIS' :\n",
    "    site_raw1 = client['NTIS']['Rawdata']\n",
    "elif site1 == 'DBPIA' :\n",
    "    site_raw1 = client['DBPIA']['Rawdata']\n",
    "\n",
    "if site2 == 'Scienceon' :\n",
    "    site_raw2 = client['SCIENCEON']['Rawdata']\n",
    "elif site2 == 'NTIS' :\n",
    "    site_raw2 = client['NTIS']['Rawdata']\n",
    "elif site2 == 'DBPIA' :\n",
    "    site_raw2 = client['DBPIA']['Rawdata']\n",
    "\n",
    "input_raw1 = site_raw1.find_one({ '_id' : input_paper1 })\n",
    "input_raw2 = site_raw2.find_one({ '_id' : input_paper2 })\n",
    "\n",
    "test_filter(name, site1, input_raw1, site2, input_raw2)\n"
   ]
  },
  {
   "cell_type": "code",
   "execution_count": null,
   "metadata": {},
   "outputs": [],
   "source": []
  }
 ],
 "metadata": {
  "interpreter": {
   "hash": "9426c78cac494a5ae5a22e0d5f8fa48da7e4c0f608effbd156736920c37fea9b"
  },
  "kernelspec": {
   "display_name": "Python 3.8.0 64-bit ('mlearn': conda)",
   "language": "python",
   "name": "python3"
  },
  "language_info": {
   "codemirror_mode": {
    "name": "ipython",
    "version": 3
   },
   "file_extension": ".py",
   "mimetype": "text/x-python",
   "name": "python",
   "nbconvert_exporter": "python",
   "pygments_lexer": "ipython3",
   "version": "3.6.8"
  },
  "orig_nbformat": 4
 },
 "nbformat": 4,
 "nbformat_minor": 2
}
