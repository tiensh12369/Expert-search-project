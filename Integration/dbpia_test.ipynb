{
 "cells": [
  {
   "cell_type": "code",
   "execution_count": 2,
   "metadata": {},
   "outputs": [],
   "source": [
    "from pymongo import MongoClient\n",
    "import re\n",
    "\n",
    "client = MongoClient('mongodb://203.255.92.141:27017', authSource='admin')\n",
    "dbpia_aut = client['DBPIA']['Author']\n"
   ]
  },
  {
   "cell_type": "code",
   "execution_count": 8,
   "metadata": {},
   "outputs": [
    {
     "name": "stdout",
     "output_type": "stream",
     "text": [
      "경상국립대학교\n"
     ]
    }
   ],
   "source": [
    "\n",
    "def isEnglishOrKorean(input_s):\n",
    "    k_count = 0\n",
    "    e_count = 0\n",
    "    for c in input_s:\n",
    "        if ord('가') <= ord(c) <= ord('힣'):\n",
    "            k_count+=1\n",
    "        elif ord('a') <= ord(c.lower()) <= ord('z'):\n",
    "            e_count+=1\n",
    "    return \"k\" if k_count>1 else \"e\"\n",
    "\n",
    "def check_college(univ0):\n",
    "    branch_set = ['성균관대학교', '건국대학교', '한양대학교']\n",
    "    univName = client['PUBLIC']['CollegeName']\n",
    "    univ1 = re.sub(\"산학협력단|병원\",\"\",univ0)\n",
    "    univ2 = re.sub(\"대학교\",\"대학교 \",univ1)\n",
    "\n",
    "    try:\n",
    "        if isEnglishOrKorean(univ0) == 'e':\n",
    "            univ0 = univ0.upper()\n",
    "            univ0 = univ0.replace('.', ',')\n",
    "            univ = univ0.split(', ')\n",
    "        else:\n",
    "            univ = univ2.replace(\",\", \"\").split()\n",
    "            univ = list(set(univ))   \n",
    "            \n",
    "        for uni in univ:\n",
    "            if uni in branch_set:\n",
    "                if (\"ERICA\" or \"에리카\") in univ0:\n",
    "                    univ[univ.index(\"한양대학교\")] = \"한양대학교(ERICA캠퍼스)\"\n",
    "                elif (\"글로컬\" or \"GLOCAL\") in univ0:\n",
    "                    univ[univ.index(\"건국대학교\")] = \"건국대학교 GLOCAL(글로컬)캠퍼스\"\n",
    "                elif \"자연과학캠퍼스\" in univ0:\n",
    "                    univ[univ.index(\"성균관대학교\")] = \"성균관대학교(자연과학캠퍼스)\"\n",
    "\n",
    "        univs = '{\"$or\": ['\n",
    "        for u in range(len(univ)):\n",
    "            if univ[-1] == univ[u]:\n",
    "                univs += '{\"inputName\": \"' + univ[u] + '\"}'\n",
    "            else:\n",
    "                univs += '{\"inputName\": \"' + univ[u] + '\"}, '\n",
    "        univs += ']}'\n",
    "\n",
    "        univ_query = univName.find_one(eval(univs))\n",
    "\n",
    "        if univ_query is None:\n",
    "            #print(\"Search inst None\")\n",
    "            return univ0\n",
    "        else:\n",
    "            return univ_query['originalName']\n",
    "        \n",
    "    except SyntaxError as e:\n",
    "        print(e)\n",
    "        print(univ0)\n",
    "        return univ0\n",
    "    \n",
    "print(check_college(''))"
   ]
  },
  {
   "cell_type": "code",
   "execution_count": 17,
   "metadata": {},
   "outputs": [
    {
     "data": {
      "text/plain": [
       "<pymongo.results.UpdateResult at 0x214370369c8>"
      ]
     },
     "execution_count": 17,
     "metadata": {},
     "output_type": "execute_result"
    }
   ],
   "source": [
    "\n",
    "# change_list_count = dbpia_aut.count_documents({ 'hasInst' : True })\n",
    "\n",
    "# dbpia_querys = {'$and': [{ 'hasInst' : True }, { 'originalName': \"x\" }]}\n",
    "dbpia_querys = { 'hasInst' : True } #\n",
    "add_label = { '$set': { 'originalName': \"x\" } }\n",
    "dbpia_aut.update_many(dbpia_querys, add_label)"
   ]
  },
  {
   "cell_type": "code",
   "execution_count": 18,
   "metadata": {},
   "outputs": [
    {
     "data": {
      "text/plain": [
       "<pymongo.results.UpdateResult at 0x21437024588>"
      ]
     },
     "execution_count": 18,
     "metadata": {},
     "output_type": "execute_result"
    }
   ],
   "source": [
    "\n",
    "change_list = dbpia_aut.find({'$and': [{ 'hasInst' : True }, { 'originalName': \"x\" }]}) #check = 0인 col\n",
    "\n",
    "dbpia_inst = change_list['inst']\n",
    "original_inst = check_college(dbpia_inst)\n",
    "dbpia_querys2 = {'$and': [{ 'hasInst' : True }, { 'originalName': \"x\" }]}\n",
    "add_label2 = { '$set': { 'originalName': original_inst } }\n",
    "\n",
    "dbpia_aut.update_many(dbpia_querys2, add_label2)"
   ]
  },
  {
   "cell_type": "code",
   "execution_count": 7,
   "metadata": {},
   "outputs": [
    {
     "data": {
      "text/plain": [
       "<pymongo.results.UpdateResult at 0x21d8325ac08>"
      ]
     },
     "execution_count": 7,
     "metadata": {},
     "output_type": "execute_result"
    }
   ],
   "source": [
    "change_list = dbpia_aut.find({'$and': [{ 'hasInst' : True }, { 'used_count': \"[논문 계속 보기]\" }]})\n",
    "\n",
    "# for dbpia_query in range(0, len(change_list)):\n",
    "    # original_inst = check_college(change_list['inst'])\n",
    "dbpia_querys = {'$and': [{ 'hasInst' : True }, { 'used_count': \"[논문 계속 보기]\" }]}\n",
    "add_label = { '$set': { 'hasInst': False } }\n",
    "\n",
    "dbpia_aut.update_many(dbpia_querys, add_label)\n"
   ]
  },
  {
   "cell_type": "code",
   "execution_count": 11,
   "metadata": {},
   "outputs": [
    {
     "name": "stdout",
     "output_type": "stream",
     "text": [
      "820264 65604\n"
     ]
    }
   ],
   "source": [
    "true_list = dbpia_aut.count_documents({ 'hasInst' : True })\n",
    "false_list = dbpia_aut.count_documents({ 'hasInst' : False })\n",
    "print(true_list, false_list)\n"
   ]
  },
  {
   "cell_type": "code",
   "execution_count": 34,
   "metadata": {},
   "outputs": [
    {
     "name": "stdout",
     "output_type": "stream",
     "text": [
      "20\n"
     ]
    }
   ],
   "source": [
    "import time\n",
    "while True:\n",
    "    starttime = time.localtime(time.time())\n",
    "    print(starttime.tm_hour)"
   ]
  },
  {
   "cell_type": "code",
   "execution_count": null,
   "metadata": {},
   "outputs": [],
   "source": []
  }
 ],
 "metadata": {
  "interpreter": {
   "hash": "d8d83098f04e4482875eea7d3f5c16576b0fce71de08417222cb37eed5ebe6cb"
  },
  "kernelspec": {
   "display_name": "Python 3.6.8 ('craw')",
   "language": "python",
   "name": "python3"
  },
  "language_info": {
   "codemirror_mode": {
    "name": "ipython",
    "version": 3
   },
   "file_extension": ".py",
   "mimetype": "text/x-python",
   "name": "python",
   "nbconvert_exporter": "python",
   "pygments_lexer": "ipython3",
   "version": "3.6.8"
  },
  "orig_nbformat": 4
 },
 "nbformat": 4,
 "nbformat_minor": 2
}
