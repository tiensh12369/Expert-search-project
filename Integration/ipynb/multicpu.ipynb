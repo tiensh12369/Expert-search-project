{
 "cells": [
  {
   "cell_type": "code",
   "execution_count": null,
   "metadata": {},
   "outputs": [],
   "source": [
    "\n",
    "from multiprocessing import Process\n",
    "from bson.objectid import ObjectId\n",
    "from pymongo import MongoClient\n",
    "from new_analyzer import run\n",
    "\n",
    "class run_factor_integration:\n",
    "    def __init__(self, keyid, fid):\n",
    "        self.client =  MongoClient('203.255.92.141:27017', connect=False)\n",
    "        self.PUBLIC = self.client['PUBLIC']\n",
    "        self.new_max_factor = self.PUBLIC['new_factor'] \n",
    "        self.ID = self.client['ID']\n",
    "        self.Domestic = self.ID['Domestic']\n",
    "        self.keyid = keyid\n",
    "        self.fid = fid\n",
    "        \n",
    "        self.DATA = self.ID['Domestic'].find({\"keyId\":self.keyid, \"fid\":fid})\n",
    "\n",
    "    def count_people(self):\n",
    "        cnt = 0\n",
    "        for i in self.DATA:\n",
    "            cnt += 1\n",
    "        return cnt\n",
    "\n",
    "    def run(self):\n",
    "        cnt = self.count_people()\n",
    "        processList = []\n",
    "        if None == self.new_max_factor.find_one({'keyId': self.keyid}):\n",
    "            self.new_max_factor.insert({'keyId': self.keyid},{'keyId': self.keyid, 'Quality' : -1, 'accuracy' : -1, 'recentness' : -1, 'coop': -1 })\n",
    "\n",
    "        for i in range(0,cnt , 100):\n",
    "            start = 1 *i\n",
    "            end = 100\n",
    "            if i//100 == cnt//100:\n",
    "                start = i\n",
    "                end = cnt\n",
    "            \n",
    "            proc = Process(target=run(start, end, self.fid, self.keyid),daemon = False)\n",
    "            processList.append(proc)\n",
    "            proc.start()\n",
    "\n",
    "        for p in processList :\n",
    "            p.join()\n",
    "        \n",
    "        self.factor_norm()\n",
    "\n",
    "    def factor_norm(self):\n",
    "        max_factor = self.new_max_factor.find({'keyId':self.keyid})\n",
    "        for doc1 in max_factor:\n",
    "            max_qual = doc1['Quality']\n",
    "            update_list = self.Domestic.find({\"keyId\":self.keyid, 'fid': self.fid})\n",
    "            for doc in update_list:\n",
    "                if max_qual != 0:\n",
    "                    norm_qual = doc['factor']['qual']/max_qual\n",
    "                else:\n",
    "                    norm_qual = doc['factor']['qual']\n",
    "                score = norm_qual * 25 + doc['factor']['acc'] *25 + doc['factor']['recentness'] * 25 +  doc['factor']['coop'] * 25\n",
    "                self.Domestic.update({'_id':ObjectId(doc['_id'])},{\"$set\":{'score':score ,'factor':{\"qual\":norm_qual,'coop':doc['factor']['coop'],'recentness':doc['factor']['recentness'],'acc':doc['factor']['acc']}}})\n",
    "        print('end')\n",
    "            \n"
   ]
  }
 ],
 "metadata": {
  "interpreter": {
   "hash": "585faf38c955f8b8b4c65826ea92b635b489103704cbd270d7c8b9cd64b78f88"
  },
  "kernelspec": {
   "display_name": "Python 3.6.8 64-bit ('craw': conda)",
   "language": "python",
   "name": "python3"
  },
  "language_info": {
   "name": "python",
   "version": "3.6.8"
  },
  "orig_nbformat": 4
 },
 "nbformat": 4,
 "nbformat_minor": 2
}
