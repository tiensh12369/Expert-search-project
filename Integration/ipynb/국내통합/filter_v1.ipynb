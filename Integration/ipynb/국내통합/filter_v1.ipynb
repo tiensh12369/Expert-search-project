{
 "cells": [
  {
   "cell_type": "code",
   "execution_count": 42,
   "metadata": {},
   "outputs": [],
   "source": [
    "from bson.objectid import ObjectId\n",
    "from pymongo import MongoClient\n",
    "import numpy as np\n",
    "import jaro\n",
    "\n",
    "def test_filter(name, site1, raw_one1, site2, raw_one2):\n",
    "    inst = jaro.jaro_winkler_metric(raw_one1.get('author_inst').split(\";\")[raw_one1.get('author').split(\";\").index(name)], raw_one2.get('author_inst').split(\";\")[raw_one2.get('author').split(\";\").index(name)])\n",
    "    weight = 0\n",
    "    \n",
    "    if raw_one1.get('title') == raw_one2.get('title') or inst >= 0.8:\n",
    "        weight = 7\n",
    "    else:\n",
    "        if site1 == 'NTIS' :\n",
    "            #NTIS \n",
    "            print('ntis')\n",
    "            if raw_one1.get('rsc') == None:\n",
    "                coauthor1 = 0\n",
    "            else:\n",
    "                coauthor1 = raw_one1.get('rsc').split(\";\")\n",
    "\n",
    "            if raw_one1.get('koKeyword') == None:\n",
    "                keyword1 = \"\"\n",
    "            else:\n",
    "                keyword1 = raw_one1.get('koKeyword').split(\",\")\n",
    "\n",
    "        else:\n",
    "            journal1 = raw_one1.get('journal')\n",
    "            issInst1 = raw_one1.get('issue_inst')\n",
    "            issYear1 = int(raw_one1.get('issue_year')[:4])\n",
    "            coauthor1 = raw_one1.get('author').split(\";\")[1:-1]\n",
    "            keyword1 = raw_one1.get('paper_keyword').replace(\" \", \"\").split(\".\")\n",
    "\n",
    "        if site2 == 'NTIS' :\n",
    "            #NTIS\n",
    "            print('ntis')\n",
    "            if raw_one2.get('rsc') == None:\n",
    "                coauthor2 = 0\n",
    "            else:\n",
    "                coauthor2 = raw_one2.get('rsc').split(\";\")\n",
    "\n",
    "            if raw_one2.get('koKeyword') == None:\n",
    "                keyword2 = \"\"\n",
    "            else:\n",
    "                keyword2 = raw_one2.get('koKeyword').split(\",\")\n",
    "\n",
    "        else:\n",
    "            journal2 = raw_one2.get('journal')\n",
    "            issInst2 = raw_one2.get('issue_inst')\n",
    "            issYear2 = int(raw_one2.get('issue_year')[:4])\n",
    "            coauthor2 = raw_one2.get('author').split(\";\")[1:-1]\n",
    "            keyword2 = raw_one2.get('paper_keyword').replace(\" \", \"\").split(\".\")\n",
    "\n",
    "                \n",
    "        if journal1 == journal2 and issInst1 == issInst2:\n",
    "            weight += 1\n",
    "        else:\n",
    "            weight -= 1\n",
    "        \n",
    "        print(f'Site: {site1} | Journal: {journal1} | Inst: {issInst1} | Year: {issYear1} | Coauthor: {coauthor1} | keyword: {keyword1}')\n",
    "        print(f'Site: {site2} | Journal: {journal2} | Inst: {issInst2} | Year: {issYear2} | Coauthor: {coauthor2} | keyword: {keyword2}')\n",
    "\n",
    "        yop = -(2*(abs(issYear1-issYear2)/10)-1)\n",
    "        co_authorship = 1 - np.exp(-len([i for i in coauthor1 if i in coauthor2]))\n",
    "        keyword = 1 - np.exp(-len([i for i in keyword1 if i in keyword2]))\n",
    "\n",
    "        print(f'yop: {yop} | co_authorship: {co_authorship} | keyword: {keyword} ')\n",
    "\n",
    "        weight += yop + co_authorship + keyword\n",
    "\n",
    "    return weight"
   ]
  },
  {
   "cell_type": "code",
   "execution_count": 43,
   "metadata": {},
   "outputs": [
    {
     "name": "stdout",
     "output_type": "stream",
     "text": [
      "7\n"
     ]
    }
   ],
   "source": [
    "client = MongoClient('mongodb://203.255.92.141:27017', authSource='admin')\n",
    "\n",
    "name = '최도진'\n",
    "site1 = 'Scienceon'\n",
    "site2 = 'Scienceon'\n",
    "input_paper1 = ObjectId('61939443e9b04a9d64abe055')\n",
    "input_paper2 = ObjectId('61939447e9b04a9d64abe06a')\n",
    "\n",
    "if site1 == 'Scienceon' :\n",
    "    site_raw1 = client['SCIENCEON']['Rawdata']\n",
    "elif site1 == 'NTIS' :\n",
    "    site_raw1 = client['NTIS']['Rawdata']\n",
    "elif site1 == 'DBPIA' :\n",
    "    site_raw1 = client['DBPIA']['Rawdata']\n",
    "\n",
    "if site2 == 'Scienceon' :\n",
    "    site_raw2 = client['SCIENCEON']['Rawdata']\n",
    "elif site2 == 'NTIS' :\n",
    "    site_raw2 = client['NTIS']['Rawdata']\n",
    "elif site2 == 'DBPIA' :\n",
    "    site_raw2 = client['DBPIA']['Rawdata']\n",
    "\n",
    "input_raw1 = site_raw1.find_one({ '_id' : input_paper1 })\n",
    "input_raw2 = site_raw2.find_one({ '_id' : input_paper2 })\n",
    "\n",
    "print(test_filter(name, site1, input_raw1, site2, input_raw2))\n"
   ]
  }
 ],
 "metadata": {
  "interpreter": {
   "hash": "9426c78cac494a5ae5a22e0d5f8fa48da7e4c0f608effbd156736920c37fea9b"
  },
  "kernelspec": {
   "display_name": "Python 3.8.0 64-bit ('mlearn': conda)",
   "language": "python",
   "name": "python3"
  },
  "language_info": {
   "codemirror_mode": {
    "name": "ipython",
    "version": 3
   },
   "file_extension": ".py",
   "mimetype": "text/x-python",
   "name": "python",
   "nbconvert_exporter": "python",
   "pygments_lexer": "ipython3",
   "version": "3.6.8"
  },
  "orig_nbformat": 4
 },
 "nbformat": 4,
 "nbformat_minor": 2
}
