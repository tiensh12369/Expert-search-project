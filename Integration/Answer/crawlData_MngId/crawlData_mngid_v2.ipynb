{
 "cells": [
  {
   "cell_type": "code",
   "execution_count": 1,
   "metadata": {},
   "outputs": [],
   "source": [
    "from os import replace\n",
    "from pymongo import MongoClient\n",
    "\n",
    "client = MongoClient('mongodb://203.255.92.141:27017', authSource='admin')"
   ]
  },
  {
   "cell_type": "code",
   "execution_count": 2,
   "metadata": {},
   "outputs": [],
   "source": [
    "def __main__():\n",
    "    input_keyid = 1254\n",
    "    input_site = [\"SCIENCEON\", \"KCI\", \"NTIS\", \"DBPIA\"]\n",
    "    a = crawling_name_inst()\n",
    "    a.author_crawl(input_keyid, input_site)"
   ]
  },
  {
   "cell_type": "code",
   "execution_count": 3,
   "metadata": {},
   "outputs": [
    {
     "ename": "KeyError",
     "evalue": "'originalName'",
     "output_type": "error",
     "traceback": [
      "\u001b[1;31m---------------------------------------------------------------------------\u001b[0m",
      "\u001b[1;31mKeyError\u001b[0m                                  Traceback (most recent call last)",
      "\u001b[1;32m<ipython-input-3-ea5a16c2f048>\u001b[0m in \u001b[0;36m<module>\u001b[1;34m\u001b[0m\n\u001b[0;32m     74\u001b[0m         \u001b[0mself\u001b[0m\u001b[1;33m.\u001b[0m\u001b[0mfile_data\u001b[0m\u001b[1;33m.\u001b[0m\u001b[0mclose\u001b[0m\u001b[1;33m(\u001b[0m\u001b[1;33m)\u001b[0m\u001b[1;33m\u001b[0m\u001b[1;33m\u001b[0m\u001b[0m\n\u001b[0;32m     75\u001b[0m         \u001b[0mprint\u001b[0m\u001b[1;33m(\u001b[0m\u001b[0msite\u001b[0m\u001b[1;33m,\u001b[0m \u001b[1;34m\"끝\"\u001b[0m\u001b[1;33m)\u001b[0m\u001b[1;33m\u001b[0m\u001b[1;33m\u001b[0m\u001b[0m\n\u001b[1;32m---> 76\u001b[1;33m \u001b[0m__main__\u001b[0m\u001b[1;33m(\u001b[0m\u001b[1;33m)\u001b[0m\u001b[1;33m\u001b[0m\u001b[1;33m\u001b[0m\u001b[0m\n\u001b[0m",
      "\u001b[1;32m<ipython-input-2-e872e7ad005d>\u001b[0m in \u001b[0;36m__main__\u001b[1;34m()\u001b[0m\n\u001b[0;32m      3\u001b[0m     \u001b[0minput_site\u001b[0m \u001b[1;33m=\u001b[0m \u001b[1;33m[\u001b[0m\u001b[1;34m\"SCIENCEON\"\u001b[0m\u001b[1;33m,\u001b[0m \u001b[1;34m\"KCI\"\u001b[0m\u001b[1;33m,\u001b[0m \u001b[1;34m\"NTIS\"\u001b[0m\u001b[1;33m,\u001b[0m \u001b[1;34m\"DBPIA\"\u001b[0m\u001b[1;33m]\u001b[0m\u001b[1;33m\u001b[0m\u001b[1;33m\u001b[0m\u001b[0m\n\u001b[0;32m      4\u001b[0m     \u001b[0ma\u001b[0m \u001b[1;33m=\u001b[0m \u001b[0mcrawling_name_inst\u001b[0m\u001b[1;33m(\u001b[0m\u001b[1;33m)\u001b[0m\u001b[1;33m\u001b[0m\u001b[1;33m\u001b[0m\u001b[0m\n\u001b[1;32m----> 5\u001b[1;33m     \u001b[0ma\u001b[0m\u001b[1;33m.\u001b[0m\u001b[0mauthor_crawl\u001b[0m\u001b[1;33m(\u001b[0m\u001b[0minput_keyid\u001b[0m\u001b[1;33m,\u001b[0m \u001b[0minput_site\u001b[0m\u001b[1;33m)\u001b[0m\u001b[1;33m\u001b[0m\u001b[1;33m\u001b[0m\u001b[0m\n\u001b[0m",
      "\u001b[1;32m<ipython-input-3-ea5a16c2f048>\u001b[0m in \u001b[0;36mauthor_crawl\u001b[1;34m(self, keyid, site)\u001b[0m\n\u001b[0;32m     13\u001b[0m \u001b[1;33m\u001b[0m\u001b[0m\n\u001b[0;32m     14\u001b[0m             \u001b[1;32mfor\u001b[0m \u001b[0mi\u001b[0m \u001b[1;32min\u001b[0m \u001b[0mself\u001b[0m\u001b[1;33m.\u001b[0m\u001b[0mclient\u001b[0m\u001b[1;33m[\u001b[0m\u001b[0mj\u001b[0m\u001b[1;33m]\u001b[0m\u001b[1;33m[\u001b[0m\u001b[1;34m'Rawdata'\u001b[0m\u001b[1;33m]\u001b[0m\u001b[1;33m.\u001b[0m\u001b[0mfind\u001b[0m\u001b[1;33m(\u001b[0m\u001b[1;33m{\u001b[0m\u001b[1;34m\"keyId\"\u001b[0m\u001b[1;33m:\u001b[0m\u001b[0mkeyid\u001b[0m\u001b[1;33m}\u001b[0m\u001b[1;33m)\u001b[0m\u001b[1;33m:\u001b[0m\u001b[1;33m\u001b[0m\u001b[1;33m\u001b[0m\u001b[0m\n\u001b[1;32m---> 15\u001b[1;33m                 \u001b[1;32mif\u001b[0m \u001b[0mj\u001b[0m \u001b[1;33m!=\u001b[0m \u001b[1;34m'NTIS'\u001b[0m \u001b[1;32mand\u001b[0m \u001b[0mi\u001b[0m\u001b[1;33m[\u001b[0m\u001b[1;34m'originalName'\u001b[0m\u001b[1;33m]\u001b[0m \u001b[1;32mnot\u001b[0m \u001b[1;32min\u001b[0m \u001b[1;34m\"\"\u001b[0m\u001b[1;33m:\u001b[0m\u001b[1;33m\u001b[0m\u001b[1;33m\u001b[0m\u001b[0m\n\u001b[0m\u001b[0;32m     16\u001b[0m                     \u001b[0mpaper_inst\u001b[0m \u001b[1;33m=\u001b[0m \u001b[0mi\u001b[0m\u001b[1;33m[\u001b[0m\u001b[1;34m'originalName'\u001b[0m\u001b[1;33m]\u001b[0m\u001b[1;33m.\u001b[0m\u001b[0msplit\u001b[0m\u001b[1;33m(\u001b[0m\u001b[1;34m';'\u001b[0m\u001b[1;33m)\u001b[0m\u001b[1;33m[\u001b[0m\u001b[1;33m-\u001b[0m\u001b[1;36m2\u001b[0m\u001b[1;33m]\u001b[0m\u001b[1;33m\u001b[0m\u001b[1;33m\u001b[0m\u001b[0m\n\u001b[0;32m     17\u001b[0m                     \u001b[0mmng_name\u001b[0m \u001b[1;33m=\u001b[0m \u001b[0mi\u001b[0m\u001b[1;33m[\u001b[0m\u001b[1;34m'author'\u001b[0m\u001b[1;33m]\u001b[0m\u001b[1;33m.\u001b[0m\u001b[0msplit\u001b[0m\u001b[1;33m(\u001b[0m\u001b[1;34m';'\u001b[0m\u001b[1;33m)\u001b[0m\u001b[1;33m[\u001b[0m\u001b[1;33m-\u001b[0m\u001b[1;36m2\u001b[0m\u001b[1;33m]\u001b[0m\u001b[1;33m\u001b[0m\u001b[1;33m\u001b[0m\u001b[0m\n",
      "\u001b[1;31mKeyError\u001b[0m: 'originalName'"
     ]
    }
   ],
   "source": [
    "from itertools import combinations\n",
    "\n",
    "class crawling_name_inst:\n",
    "    def __init__(self):\n",
    "        self.client = MongoClient('mongodb://203.255.92.141:27017', authSource='admin')\n",
    "        \n",
    "    def author_crawl(self, keyid, site):\n",
    "        cand = {}\n",
    "        \n",
    "        self.file_data = open(f'answer{keyid}.csv', 'w', encoding='utf-8-sig')\n",
    "        for j in site:\n",
    "            len_result = 0\n",
    "            \n",
    "            for i in self.client[j]['Rawdata'].find({\"keyId\":keyid}):\n",
    "                if j != 'NTIS' and i['originalName'] not in \"\":\n",
    "                    paper_inst = i['originalName'].split(';')[-2]\n",
    "                    mng_name = i['author'].split(';')[-2]\n",
    "                    len_result += 1\n",
    "                    x = mng_name.replace(',', '^') + ',' + j + ',' + paper_inst.replace(',', ';') + '\\n'\n",
    "                    if mng_name not in cand:\n",
    "                        cand[mng_name] = []\n",
    "                        \n",
    "                    cand[mng_name].append(x)\n",
    "                elif i['originalName'] not in \"\" :\n",
    "                    paper_inst = i['originalName']\n",
    "                    mng_name = i['mng']\n",
    "                    len_result += 1\n",
    "                    x = mng_name.replace(',', '^') + ',' + j + ',' + paper_inst.replace(',', ';') + '\\n'\n",
    "                    if mng_name not in cand:\n",
    "                        cand[mng_name] = []\n",
    "                        \n",
    "                    cand[mng_name].append(x)\n",
    "                    \n",
    "        cand_dict= {}    \n",
    "        for cand_one in cand:\n",
    "            cand_value = list(set(cand[cand_one]))\n",
    "            mng_name = cand_one\n",
    "            \n",
    "            if mng_name not in cand_dict:\n",
    "                cand_dict[mng_name] = []\n",
    "                \n",
    "            if len(cand_value) >= 2:\n",
    "                cand_three = []\n",
    "                integration_dict= {}\n",
    "                \n",
    "                j = 1\n",
    "                \n",
    "                for c in cand_value:\n",
    "                    cand_three.append([c, j])\n",
    "                    j += 1\n",
    "                \n",
    "                for a in cand_three:\n",
    "                    cand_check = [a[1]]\n",
    "                    for n in cand_three:\n",
    "                        if a == n:\n",
    "                            break\n",
    "                        cand_inst1 = a[0].split(',')[2]\n",
    "                        cand_inst2 = n[0].split(',')[2]\n",
    "                        cand_data2 = n[0].split(',')[1] + ',' + cand_inst2\n",
    "                        \n",
    "                        if cand_inst1 == cand_inst2 and n[1] not in cand_check:\n",
    "                            cand_check.append(n[1])\n",
    "                            integration_dict[a[0][:-1] + ',' + cand_data2] = cand_check\n",
    "                \n",
    "                cand_dict[mng_name].extend(integration_dict)\n",
    "\n",
    "            else:\n",
    "                cand_dict[mng_name].extend(cand_value)\n",
    "\n",
    "        for cand_v in cand_dict.values():\n",
    "            for i in cand_v:\n",
    "                self.file_data.write(i)\n",
    "\n",
    "        self.file_data.close()\n",
    "        print(site, \"끝\")\n",
    "__main__()"
   ]
  },
  {
   "cell_type": "code",
   "execution_count": null,
   "metadata": {},
   "outputs": [],
   "source": []
  }
 ],
 "metadata": {
  "kernelspec": {
   "display_name": "Python 3.6.8 ('craw')",
   "language": "python",
   "name": "python3"
  },
  "language_info": {
   "codemirror_mode": {
    "name": "ipython",
    "version": 3
   },
   "file_extension": ".py",
   "mimetype": "text/x-python",
   "name": "python",
   "nbconvert_exporter": "python",
   "pygments_lexer": "ipython3",
   "version": "3.6.8"
  },
  "orig_nbformat": 4,
  "vscode": {
   "interpreter": {
    "hash": "0d8ea8a5555a125bf107677d9243ef15edc6a1c7fa948e86471700793437d3e4"
   }
  }
 },
 "nbformat": 4,
 "nbformat_minor": 2
}
