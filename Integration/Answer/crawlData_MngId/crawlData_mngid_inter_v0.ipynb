{
 "cells": [
  {
   "cell_type": "code",
   "execution_count": 23,
   "metadata": {},
   "outputs": [],
   "source": [
    "from os import replace\n",
    "from pymongo import MongoClient\n",
    "\n",
    "client = MongoClient('mongodb://203.255.92.141:27017', authSource='admin')"
   ]
  },
  {
   "cell_type": "code",
   "execution_count": 24,
   "metadata": {},
   "outputs": [],
   "source": [
    "def __main__():\n",
    "    input_keyid = 1503\n",
    "    input_site = [\"WOS\", \"SCOPUS\"]\n",
    "    a = crawling_name_inst()\n",
    "    a.author_crawl(input_keyid, input_site)"
   ]
  },
  {
   "cell_type": "code",
   "execution_count": 25,
   "metadata": {},
   "outputs": [
    {
     "name": "stdout",
     "output_type": "stream",
     "text": [
      "558 ['WOS', 'SCOPUS'] 끝\n"
     ]
    }
   ],
   "source": [
    "from itertools import combinations\n",
    "\n",
    "class crawling_name_inst:\n",
    "    def __init__(self):\n",
    "        self.client = MongoClient('mongodb://203.255.92.141:27017', authSource='admin')\n",
    "        \n",
    "    def author_crawl(self, keyid, site):\n",
    "        cand = {}\n",
    "        \n",
    "        self.file_data = open(f'cac_answer{keyid}.csv', 'w', encoding='utf-8-sig')\n",
    "        for s in site:\n",
    "            len_result = 0\n",
    "            \n",
    "            for key_query in self.client[s]['Rawdata'].find({\"keyId\":keyid}):\n",
    "                if key_query['author_inst'] not in \"\":\n",
    "                    name_f = key_query['author'].split(';')[0]\n",
    "                    name_l = key_query['author'].split(';')[-2]\n",
    "                    inst_f = key_query['author_inst'].split(';')[0]\n",
    "                    inst_l = key_query['author_inst'].split(';')[-2]\n",
    "                    title = key_query['title'].replace(',', '^')\n",
    "                    \n",
    "                    len_result += 1\n",
    "                    \n",
    "                    x_f = 'First,' + name_f.replace(',', '^') + ',' + s + ',' + inst_f.replace(',', '^') + '\\n'\n",
    "                    x_l = 'Last,' + name_l.replace(',', '^') + ',' + s + ',' + inst_l.replace(',', '^') + '\\n'\n",
    "\n",
    "                    self.file_data.write('Title,' + title + '\\n')\n",
    "                    self.file_data.write(x_f)\n",
    "                    self.file_data.write(x_l + '\\n')\n",
    "\n",
    "        self.file_data.close()\n",
    "        print(len_result, site, \"끝\")\n",
    "__main__()"
   ]
  },
  {
   "cell_type": "code",
   "execution_count": null,
   "metadata": {},
   "outputs": [],
   "source": []
  }
 ],
 "metadata": {
  "kernelspec": {
   "display_name": "Python 3.6.8 ('craw')",
   "language": "python",
   "name": "python3"
  },
  "language_info": {
   "codemirror_mode": {
    "name": "ipython",
    "version": 3
   },
   "file_extension": ".py",
   "mimetype": "text/x-python",
   "name": "python",
   "nbconvert_exporter": "python",
   "pygments_lexer": "ipython3",
   "version": "3.6.8"
  },
  "orig_nbformat": 4,
  "vscode": {
   "interpreter": {
    "hash": "0d8ea8a5555a125bf107677d9243ef15edc6a1c7fa948e86471700793437d3e4"
   }
  }
 },
 "nbformat": 4,
 "nbformat_minor": 2
}
