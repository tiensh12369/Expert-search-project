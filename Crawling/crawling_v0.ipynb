{
 "cells": [
  {
   "cell_type": "code",
   "execution_count": 5,
   "metadata": {},
   "outputs": [],
   "source": [
    "from selenium import webdriver\n",
    "import re, math, datetime, time\n",
    "from pymongo import MongoClient"
   ]
  },
  {
   "cell_type": "code",
   "execution_count": 6,
   "metadata": {},
   "outputs": [
    {
     "name": "stdout",
     "output_type": "stream",
     "text": [
      "처리할 Author: 51, 반복 수: 1\n",
      "현재 처린된 Author: 219156, 처리 시간: 36.22024 sec\n"
     ]
    }
   ],
   "source": [
    "client = MongoClient('203.255.92.141:27017')\n",
    "#print(client.list_database_names())\n",
    "\n",
    "scopus_db = client['SCOPUS'] \n",
    "scopus_col = scopus_db['Author']\n",
    "\n",
    "'''\n",
    "check_query = { 'check': { '$ne': 1 } } #check가 1이 아닌 다른 값 목록\n",
    "add_label = { '$set': { 'check': 0 } } #check를 0으로 추가\n",
    "scopus_col.update_many(check_query, add_label)\n",
    "'''\n",
    "\n",
    "change_list_count = scopus_col.count_documents({ '$and': [{ '_id': {'$ne': 1} }, { 'check':0 }]}) #check가 0인 문서 수\n",
    "T = math.ceil(change_list_count/200)\n",
    "print(f'처리할 Author: {change_list_count}, 반복 수: {T}')\n",
    "\n",
    "for col_case in range(1, T+1):\n",
    "\n",
    "    list_count = scopus_col.count_documents({'check':1}) #check가 1인 문서 수\n",
    "\n",
    "    try:\n",
    "        start = time.time()\n",
    "        #change_list = scopus_col.find({'check':0},'_id')\n",
    "        change_list = scopus_col.find({ '$and': [{ '_id': {'$ne': 1} }, { 'check':0 }]}, '_id') #check = 0인 col\n",
    "\n",
    "        au_id = '' #SCOPUS AU-ID 검색\n",
    "        au_id_list = [] #SCOPUS ID 목록\n",
    "\n",
    "        for x in change_list[0:200]:\n",
    "            au_id += ('AU-ID('+ x['_id'] + ')')\n",
    "            au_id_list.append(x['_id'])\n",
    "\n",
    "        #print(x['_id'])\n",
    "        #print(au_id_list)\n",
    "\n",
    "        url = 'https://www.scopus.com/search/form.uri?display=advanced'\n",
    "        path = 'C:/Users/Hyeuk/Desktop/NetDB/Git_code/chromedriver/chromedriver.exe'\n",
    "        options = webdriver.ChromeOptions()\n",
    "        #options.add_argument('headless')\n",
    "        options.add_argument('window-size=1920x1080')\n",
    "        options.add_argument(\"disable-gpu\")\n",
    "\n",
    "        driver = webdriver.Chrome(path, options=options)\n",
    "        driver.get(url=url)\n",
    "\n",
    "        #scopus id 검색\n",
    "        driver.find_element_by_xpath('//*[@id=\"searchfield\"]').send_keys(au_id)\n",
    "        driver.find_element_by_xpath('//*[@id=\"advSearch\"]').click()\n",
    "\n",
    "        #edit에서 전체 저자 목록\n",
    "        driver.find_element_by_xpath('//*[@id=\"resultsMenu\"]/ul/li[1]/button').click()\n",
    "\n",
    "        author_list = driver.find_element_by_xpath('//*[@id=\"searchfield\"]').text\n",
    "        #print(author_list)\n",
    "\n",
    "        author_fname = re.findall('\"(.+?)\"', author_list)\n",
    "        \n",
    "        for i in range(0, len(au_id_list)):\n",
    "            id_query = {'$and': [{ '_id':au_id_list[i] }, { 'check':0 }]}\n",
    "            change_name = { '$set': { 'name': author_fname[i] } }\n",
    "            change_label = { '$set': { 'check': 1 } }\n",
    "            \n",
    "            scopus_col.update_many(id_query, change_name)\n",
    "            scopus_col.update_many(id_query, change_label)\n",
    "        \n",
    "        driver.quit()\n",
    "        end = time.time()\n",
    "        print(f'현재 처린된 Author: {list_count}, 처리 시간: {end - start:.5f} sec')\n",
    "\n",
    "    except Exception as e:\n",
    "        driver.quit()\n",
    "        print(f'현재 처린된 Author: {list_count}, 에러 발생 시간: {time.localtime}')\n",
    "\n",
    "print('종료')\n"
   ]
  },
  {
   "cell_type": "code",
   "execution_count": null,
   "metadata": {},
   "outputs": [],
   "source": []
  }
 ],
 "metadata": {
  "interpreter": {
   "hash": "585faf38c955f8b8b4c65826ea92b635b489103704cbd270d7c8b9cd64b78f88"
  },
  "kernelspec": {
   "display_name": "Python 3.6.8 64-bit ('craw': conda)",
   "name": "python3"
  },
  "language_info": {
   "codemirror_mode": {
    "name": "ipython",
    "version": 3
   },
   "file_extension": ".py",
   "mimetype": "text/x-python",
   "name": "python",
   "nbconvert_exporter": "python",
   "pygments_lexer": "ipython3",
   "version": "3.6.8"
  },
  "orig_nbformat": 4
 },
 "nbformat": 4,
 "nbformat_minor": 2
}
