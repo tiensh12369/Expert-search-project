{
 "cells": [
  {
   "cell_type": "code",
   "execution_count": 1,
   "metadata": {},
   "outputs": [
    {
     "name": "stdout",
     "output_type": "stream",
     "text": [
      "처리할 Author: 1471289, 반복 수: 7357\n"
     ]
    },
    {
     "name": "stderr",
     "output_type": "stream",
     "text": [
      "진행률:   1%|▏         | 105/7357 [3:21:29<200:28:36, 99.52s/it] "
     ]
    },
    {
     "name": "stdout",
     "output_type": "stream",
     "text": [
      "현재 처린된 Author: 1119407, 에러 발생 시간: 2021-12-23 19:13:37.453821\n",
      "Message: chrome not reachable\n",
      "\n"
     ]
    },
    {
     "name": "stderr",
     "output_type": "stream",
     "text": [
      "진행률:   5%|▍         | 332/7357 [10:20:14<153:44:23, 78.78s/it] "
     ]
    },
    {
     "name": "stdout",
     "output_type": "stream",
     "text": [
      "현재 처린된 Author: 1164607, 에러 발생 시간: 2021-12-24 02:12:23.202943\n",
      "Message: no such element: Unable to locate element: {\"method\":\"xpath\",\"selector\":\"//*[@id=\"searchfield\"]\"}\n",
      "  (Session info: headless chrome=96.0.4664.110)\n",
      "\n"
     ]
    },
    {
     "name": "stderr",
     "output_type": "stream",
     "text": [
      "진행률:   5%|▍         | 351/7357 [10:53:58<159:18:00, 81.86s/it] "
     ]
    },
    {
     "name": "stdout",
     "output_type": "stream",
     "text": [
      "현재 처린된 Author: 1168207, 에러 발생 시간: 2021-12-24 02:46:07.271035\n",
      "Message: no such element: Unable to locate element: {\"method\":\"xpath\",\"selector\":\"//*[@id=\"searchfield\"]\"}\n",
      "  (Session info: headless chrome=96.0.4664.110)\n",
      "\n"
     ]
    },
    {
     "name": "stderr",
     "output_type": "stream",
     "text": [
      "진행률:   6%|▌         | 458/7357 [14:08:04<153:37:06, 80.16s/it] "
     ]
    },
    {
     "name": "stdout",
     "output_type": "stream",
     "text": [
      "현재 처린된 Author: 1189407, 에러 발생 시간: 2021-12-24 06:00:13.206245\n",
      "Message: no such element: Unable to locate element: {\"method\":\"xpath\",\"selector\":\"//*[@id=\"searchfield\"]\"}\n",
      "  (Session info: headless chrome=96.0.4664.110)\n",
      "\n"
     ]
    },
    {
     "name": "stderr",
     "output_type": "stream",
     "text": [
      "진행률:   8%|▊         | 592/7357 [18:10:15<222:31:05, 118.41s/it]"
     ]
    },
    {
     "name": "stdout",
     "output_type": "stream",
     "text": [
      "현재 처린된 Author: 1216007, 에러 발생 시간: 2021-12-24 10:02:23.913868\n",
      "Message: no such element: Unable to locate element: {\"method\":\"xpath\",\"selector\":\"//*[@id=\"resultsMenu\"]/ul/li[1]/button\"}\n",
      "  (Session info: headless chrome=96.0.4664.110)\n",
      "\n"
     ]
    },
    {
     "name": "stderr",
     "output_type": "stream",
     "text": [
      "진행률:   8%|▊         | 593/7357 [18:12:44<239:42:43, 127.58s/it]"
     ]
    },
    {
     "name": "stdout",
     "output_type": "stream",
     "text": [
      "현재 처린된 Author: 1216007, 에러 발생 시간: 2021-12-24 10:04:52.890238\n",
      "Message: no such element: Unable to locate element: {\"method\":\"xpath\",\"selector\":\"//*[@id=\"resultsMenu\"]/ul/li[1]/button\"}\n",
      "  (Session info: headless chrome=96.0.4664.110)\n",
      "\n"
     ]
    },
    {
     "name": "stderr",
     "output_type": "stream",
     "text": [
      "진행률:   8%|▊         | 594/7357 [18:15:14<252:21:34, 134.33s/it]"
     ]
    },
    {
     "name": "stdout",
     "output_type": "stream",
     "text": [
      "현재 처린된 Author: 1216007, 에러 발생 시간: 2021-12-24 10:07:22.976105\n",
      "Message: no such element: Unable to locate element: {\"method\":\"xpath\",\"selector\":\"//*[@id=\"resultsMenu\"]/ul/li[1]/button\"}\n",
      "  (Session info: headless chrome=96.0.4664.110)\n",
      "\n"
     ]
    },
    {
     "name": "stderr",
     "output_type": "stream",
     "text": [
      "진행률:  12%|█▏        | 863/7357 [26:18:30<175:43:45, 97.42s/it] "
     ]
    },
    {
     "name": "stdout",
     "output_type": "stream",
     "text": [
      "현재 처린된 Author: 1269607, 에러 발생 시간: 2021-12-24 18:10:38.864601\n",
      "Message: chrome not reachable\n",
      "\n"
     ]
    },
    {
     "name": "stderr",
     "output_type": "stream",
     "text": [
      "진행률:  13%|█▎        | 952/7357 [28:59:00<157:58:03, 88.79s/it] "
     ]
    },
    {
     "name": "stdout",
     "output_type": "stream",
     "text": [
      "현재 처린된 Author: 1287207, 에러 발생 시간: 2021-12-24 20:51:09.284408\n",
      "Message: no such element: Unable to locate element: {\"method\":\"xpath\",\"selector\":\"//*[@id=\"resultsMenu\"]/ul/li[1]/button\"}\n",
      "  (Session info: headless chrome=96.0.4664.110)\n",
      "\n"
     ]
    },
    {
     "name": "stderr",
     "output_type": "stream",
     "text": [
      "진행률:  16%|█▌        | 1146/7357 [34:51:31<172:13:41, 99.83s/it] "
     ]
    },
    {
     "name": "stdout",
     "output_type": "stream",
     "text": [
      "현재 처린된 Author: 1325807, 에러 발생 시간: 2021-12-25 02:43:40.263572\n",
      "Message: chrome not reachable\n",
      "\n"
     ]
    },
    {
     "name": "stderr",
     "output_type": "stream",
     "text": [
      "진행률:  18%|█▊        | 1333/7357 [40:29:28<133:07:13, 79.55s/it] "
     ]
    },
    {
     "name": "stdout",
     "output_type": "stream",
     "text": [
      "현재 처린된 Author: 1363007, 에러 발생 시간: 2021-12-25 08:21:37.199074\n",
      "Message: no such element: Unable to locate element: {\"method\":\"xpath\",\"selector\":\"//*[@id=\"searchfield\"]\"}\n",
      "  (Session info: headless chrome=96.0.4664.110)\n",
      "\n"
     ]
    },
    {
     "name": "stderr",
     "output_type": "stream",
     "text": [
      "진행률:  18%|█▊        | 1352/7357 [41:02:36<131:54:06, 79.08s/it] "
     ]
    },
    {
     "name": "stdout",
     "output_type": "stream",
     "text": [
      "현재 처린된 Author: 1366607, 에러 발생 시간: 2021-12-25 08:54:44.925375\n",
      "Message: no such element: Unable to locate element: {\"method\":\"xpath\",\"selector\":\"//*[@id=\"searchfield\"]\"}\n",
      "  (Session info: headless chrome=96.0.4664.110)\n",
      "\n"
     ]
    },
    {
     "name": "stderr",
     "output_type": "stream",
     "text": [
      "진행률:  19%|█▊        | 1367/7357 [41:28:19<132:11:32, 79.45s/it] "
     ]
    },
    {
     "name": "stdout",
     "output_type": "stream",
     "text": [
      "현재 처린된 Author: 1369407, 에러 발생 시간: 2021-12-25 09:20:27.599613\n",
      "Message: no such element: Unable to locate element: {\"method\":\"xpath\",\"selector\":\"//*[@id=\"searchfield\"]\"}\n",
      "  (Session info: headless chrome=96.0.4664.110)\n",
      "\n"
     ]
    },
    {
     "name": "stderr",
     "output_type": "stream",
     "text": [
      "진행률:  19%|█▉        | 1390/7357 [42:10:11<198:46:31, 119.92s/it]"
     ]
    },
    {
     "name": "stdout",
     "output_type": "stream",
     "text": [
      "현재 처린된 Author: 1373807, 에러 발생 시간: 2021-12-25 10:02:20.375047\n",
      "Message: no such element: Unable to locate element: {\"method\":\"xpath\",\"selector\":\"//*[@id=\"resultsMenu\"]/ul/li[1]/button\"}\n",
      "  (Session info: headless chrome=96.0.4664.110)\n",
      "\n"
     ]
    },
    {
     "name": "stderr",
     "output_type": "stream",
     "text": [
      "진행률:  19%|█▉        | 1391/7357 [42:12:47<216:20:16, 130.54s/it]"
     ]
    },
    {
     "name": "stdout",
     "output_type": "stream",
     "text": [
      "현재 처린된 Author: 1373807, 에러 발생 시간: 2021-12-25 10:04:55.693177\n",
      "Message: no such element: Unable to locate element: {\"method\":\"xpath\",\"selector\":\"//*[@id=\"resultsMenu\"]/ul/li[1]/button\"}\n",
      "  (Session info: headless chrome=96.0.4664.110)\n",
      "\n"
     ]
    },
    {
     "name": "stderr",
     "output_type": "stream",
     "text": [
      "진행률:  19%|█▉        | 1409/7357 [42:46:24<164:20:16, 99.46s/it] "
     ]
    },
    {
     "name": "stdout",
     "output_type": "stream",
     "text": [
      "현재 처린된 Author: 1377207, 에러 발생 시간: 2021-12-25 10:38:33.330814\n",
      "Message: chrome not reachable\n",
      "\n"
     ]
    },
    {
     "name": "stderr",
     "output_type": "stream",
     "text": [
      "진행률:  20%|██        | 1484/7357 [45:00:26<129:23:16, 79.31s/it] "
     ]
    },
    {
     "name": "stdout",
     "output_type": "stream",
     "text": [
      "현재 처린된 Author: 1392007, 에러 발생 시간: 2021-12-25 12:52:34.738367\n",
      "Message: no such element: Unable to locate element: {\"method\":\"xpath\",\"selector\":\"//*[@id=\"searchfield\"]\"}\n",
      "  (Session info: headless chrome=96.0.4664.110)\n",
      "\n"
     ]
    },
    {
     "name": "stderr",
     "output_type": "stream",
     "text": [
      "진행률:  20%|██        | 1487/7357 [45:05:26<146:36:09, 89.91s/it]"
     ]
    },
    {
     "name": "stdout",
     "output_type": "stream",
     "text": [
      "현재 처린된 Author: 1392407, 에러 발생 시간: 2021-12-25 12:57:34.570171\n",
      "Message: chrome not reachable\n",
      "\n"
     ]
    },
    {
     "name": "stderr",
     "output_type": "stream",
     "text": [
      "진행률:  21%|██▏       | 1573/7357 [47:40:20<133:01:32, 82.80s/it] "
     ]
    },
    {
     "name": "stdout",
     "output_type": "stream",
     "text": [
      "현재 처린된 Author: 1409407, 에러 발생 시간: 2021-12-25 15:32:29.038705\n",
      "Message: no such element: Unable to locate element: {\"method\":\"xpath\",\"selector\":\"//*[@id=\"searchfield\"]\"}\n",
      "  (Session info: headless chrome=96.0.4664.110)\n",
      "\n"
     ]
    },
    {
     "name": "stderr",
     "output_type": "stream",
     "text": [
      "진행률:  22%|██▏       | 1583/7357 [47:56:56<127:33:51, 79.53s/it] "
     ]
    },
    {
     "name": "stdout",
     "output_type": "stream",
     "text": [
      "현재 처린된 Author: 1411207, 에러 발생 시간: 2021-12-25 15:49:05.319194\n",
      "Message: no such element: Unable to locate element: {\"method\":\"xpath\",\"selector\":\"//*[@id=\"searchfield\"]\"}\n",
      "  (Session info: headless chrome=96.0.4664.110)\n",
      "\n"
     ]
    },
    {
     "name": "stderr",
     "output_type": "stream",
     "text": [
      "진행률:  22%|██▏       | 1584/7357 [47:57:07<94:27:11, 58.90s/it] "
     ]
    },
    {
     "name": "stdout",
     "output_type": "stream",
     "text": [
      "현재 처린된 Author: 1411207, 에러 발생 시간: 2021-12-25 15:49:16.072954\n",
      "Message: no such element: Unable to locate element: {\"method\":\"xpath\",\"selector\":\"//*[@id=\"searchfield\"]\"}\n",
      "  (Session info: headless chrome=96.0.4664.110)\n",
      "\n"
     ]
    },
    {
     "name": "stderr",
     "output_type": "stream",
     "text": [
      "진행률:  22%|██▏       | 1594/7357 [48:13:49<126:49:39, 79.23s/it] "
     ]
    },
    {
     "name": "stdout",
     "output_type": "stream",
     "text": [
      "현재 처린된 Author: 1413007, 에러 발생 시간: 2021-12-25 16:05:57.871476\n",
      "Message: no such element: Unable to locate element: {\"method\":\"xpath\",\"selector\":\"//*[@id=\"searchfield\"]\"}\n",
      "  (Session info: headless chrome=96.0.4664.110)\n",
      "\n"
     ]
    },
    {
     "name": "stderr",
     "output_type": "stream",
     "text": [
      "진행률:  23%|██▎       | 1695/7357 [51:16:48<126:41:22, 80.55s/it] "
     ]
    },
    {
     "name": "stdout",
     "output_type": "stream",
     "text": [
      "현재 처린된 Author: 1433007, 에러 발생 시간: 2021-12-25 19:08:56.556299\n",
      "Message: no such element: Unable to locate element: {\"method\":\"xpath\",\"selector\":\"//*[@id=\"searchfield\"]\"}\n",
      "  (Session info: headless chrome=96.0.4664.110)\n",
      "\n"
     ]
    },
    {
     "name": "stderr",
     "output_type": "stream",
     "text": [
      "진행률:  25%|██▌       | 1840/7357 [55:50:24<161:40:06, 105.49s/it]"
     ]
    },
    {
     "name": "stdout",
     "output_type": "stream",
     "text": [
      "현재 처린된 Author: 1461807, 에러 발생 시간: 2021-12-25 23:42:32.831983\n",
      "Message: chrome not reachable\n",
      "\n"
     ]
    },
    {
     "name": "stderr",
     "output_type": "stream",
     "text": [
      "진행률:  26%|██▌       | 1925/7357 [58:29:03<137:26:56, 91.09s/it] "
     ]
    },
    {
     "name": "stdout",
     "output_type": "stream",
     "text": [
      "현재 처린된 Author: 1478607, 에러 발생 시간: 2021-12-26 02:21:11.540823\n",
      "Message: no such element: Unable to locate element: {\"method\":\"xpath\",\"selector\":\"//*[@id=\"resultsMenu\"]/ul/li[1]/button\"}\n",
      "  (Session info: headless chrome=96.0.4664.110)\n",
      "\n"
     ]
    },
    {
     "name": "stderr",
     "output_type": "stream",
     "text": [
      "진행률:  26%|██▋       | 1936/7357 [58:47:57<122:05:04, 81.07s/it] "
     ]
    },
    {
     "name": "stdout",
     "output_type": "stream",
     "text": [
      "현재 처린된 Author: 1480607, 에러 발생 시간: 2021-12-26 02:40:05.685442\n",
      "Message: no such element: Unable to locate element: {\"method\":\"xpath\",\"selector\":\"//*[@id=\"searchfield\"]\"}\n",
      "  (Session info: headless chrome=96.0.4664.110)\n",
      "\n"
     ]
    },
    {
     "name": "stderr",
     "output_type": "stream",
     "text": [
      "진행률:  28%|██▊       | 2032/7357 [61:43:14<118:58:29, 80.43s/it] "
     ]
    },
    {
     "name": "stdout",
     "output_type": "stream",
     "text": [
      "현재 처린된 Author: 1499607, 에러 발생 시간: 2021-12-26 05:35:22.784726\n",
      "Message: no such element: Unable to locate element: {\"method\":\"xpath\",\"selector\":\"//*[@id=\"searchfield\"]\"}\n",
      "  (Session info: headless chrome=96.0.4664.110)\n",
      "\n"
     ]
    },
    {
     "name": "stderr",
     "output_type": "stream",
     "text": [
      "진행률:  29%|██▉       | 2160/7357 [65:34:35<139:59:20, 96.97s/it] "
     ]
    },
    {
     "name": "stdout",
     "output_type": "stream",
     "text": [
      "현재 처린된 Author: 1525007, 에러 발생 시간: 2021-12-26 09:26:44.230951\n",
      "Message: chrome not reachable\n",
      "\n"
     ]
    },
    {
     "name": "stderr",
     "output_type": "stream",
     "text": [
      "진행률:  30%|██▉       | 2178/7357 [66:05:38<112:59:04, 78.54s/it] "
     ]
    },
    {
     "name": "stdout",
     "output_type": "stream",
     "text": [
      "현재 처린된 Author: 1528407, 에러 발생 시간: 2021-12-26 09:57:47.032188\n",
      "Message: no such element: Unable to locate element: {\"method\":\"xpath\",\"selector\":\"//*[@id=\"searchfield\"]\"}\n",
      "  (Session info: headless chrome=96.0.4664.110)\n",
      "\n"
     ]
    },
    {
     "name": "stderr",
     "output_type": "stream",
     "text": [
      "진행률:  30%|██▉       | 2180/7357 [66:10:00<154:05:29, 107.15s/it]"
     ]
    },
    {
     "name": "stdout",
     "output_type": "stream",
     "text": [
      "현재 처린된 Author: 1528607, 에러 발생 시간: 2021-12-26 10:02:09.203336\n",
      "Message: no such element: Unable to locate element: {\"method\":\"xpath\",\"selector\":\"//*[@id=\"resultsMenu\"]/ul/li[1]/button\"}\n",
      "  (Session info: headless chrome=96.0.4664.110)\n",
      "\n"
     ]
    },
    {
     "name": "stderr",
     "output_type": "stream",
     "text": [
      "진행률:  30%|██▉       | 2181/7357 [66:12:33<173:34:58, 120.73s/it]"
     ]
    },
    {
     "name": "stdout",
     "output_type": "stream",
     "text": [
      "현재 처린된 Author: 1528607, 에러 발생 시간: 2021-12-26 10:04:41.614292\n",
      "Message: no such element: Unable to locate element: {\"method\":\"xpath\",\"selector\":\"//*[@id=\"resultsMenu\"]/ul/li[1]/button\"}\n",
      "  (Session info: headless chrome=96.0.4664.110)\n",
      "\n"
     ]
    },
    {
     "name": "stderr",
     "output_type": "stream",
     "text": [
      "진행률:  31%|███       | 2248/7357 [68:14:17<114:12:46, 80.48s/it] "
     ]
    },
    {
     "name": "stdout",
     "output_type": "stream",
     "text": [
      "현재 처린된 Author: 1541807, 에러 발생 시간: 2021-12-26 12:06:26.001693\n",
      "Message: no such element: Unable to locate element: {\"method\":\"xpath\",\"selector\":\"//*[@id=\"searchfield\"]\"}\n",
      "  (Session info: headless chrome=96.0.4664.110)\n",
      "\n"
     ]
    },
    {
     "name": "stderr",
     "output_type": "stream",
     "text": [
      "진행률:  31%|███       | 2250/7357 [68:17:54<134:10:05, 94.58s/it]"
     ]
    },
    {
     "name": "stdout",
     "output_type": "stream",
     "text": [
      "현재 처린된 Author: 1542007, 에러 발생 시간: 2021-12-26 12:10:03.094403\n",
      "Message: no such element: Unable to locate element: {\"method\":\"xpath\",\"selector\":\"//*[@id=\"searchfield\"]\"}\n",
      "  (Session info: headless chrome=96.0.4664.110)\n",
      "\n"
     ]
    },
    {
     "name": "stderr",
     "output_type": "stream",
     "text": [
      "진행률:  31%|███       | 2261/7357 [68:35:39<113:09:54, 79.94s/it] "
     ]
    },
    {
     "name": "stdout",
     "output_type": "stream",
     "text": [
      "현재 처린된 Author: 1544007, 에러 발생 시간: 2021-12-26 12:27:48.183849\n",
      "Message: no such element: Unable to locate element: {\"method\":\"xpath\",\"selector\":\"//*[@id=\"searchfield\"]\"}\n",
      "  (Session info: headless chrome=96.0.4664.110)\n",
      "\n"
     ]
    },
    {
     "name": "stderr",
     "output_type": "stream",
     "text": [
      "진행률:  32%|███▏      | 2318/7357 [70:19:09<113:43:06, 81.24s/it] "
     ]
    },
    {
     "name": "stdout",
     "output_type": "stream",
     "text": [
      "현재 처린된 Author: 1555207, 에러 발생 시간: 2021-12-26 14:11:17.844388\n",
      "Message: no such element: Unable to locate element: {\"method\":\"xpath\",\"selector\":\"//*[@id=\"searchfield\"]\"}\n",
      "  (Session info: headless chrome=96.0.4664.110)\n",
      "\n"
     ]
    },
    {
     "name": "stderr",
     "output_type": "stream",
     "text": [
      "진행률:  32%|███▏      | 2374/7357 [72:01:47<137:52:37, 99.61s/it] "
     ]
    },
    {
     "name": "stdout",
     "output_type": "stream",
     "text": [
      "현재 처린된 Author: 1566207, 에러 발생 시간: 2021-12-26 15:53:56.106841\n",
      "Message: chrome not reachable\n",
      "\n"
     ]
    },
    {
     "name": "stderr",
     "output_type": "stream",
     "text": [
      "진행률:  35%|███▍      | 2543/7357 [77:13:23<110:53:46, 82.93s/it] "
     ]
    },
    {
     "name": "stdout",
     "output_type": "stream",
     "text": [
      "현재 처린된 Author: 1599807, 에러 발생 시간: 2021-12-26 21:05:31.392088\n",
      "Message: no such element: Unable to locate element: {\"method\":\"xpath\",\"selector\":\"//*[@id=\"searchfield\"]\"}\n",
      "  (Session info: headless chrome=96.0.4664.110)\n",
      "\n"
     ]
    },
    {
     "name": "stderr",
     "output_type": "stream",
     "text": [
      "진행률:  35%|███▍      | 2559/7357 [77:43:41<144:43:34, 108.59s/it]"
     ]
    },
    {
     "name": "stdout",
     "output_type": "stream",
     "text": [
      "현재 처린된 Author: 1602807, 에러 발생 시간: 2021-12-26 21:35:49.822415\n",
      "Message: no such element: Unable to locate element: {\"method\":\"xpath\",\"selector\":\"//*[@id=\"resultsMenu\"]/ul/li[1]/button\"}\n",
      "  (Session info: headless chrome=96.0.4664.110)\n",
      "\n"
     ]
    },
    {
     "name": "stderr",
     "output_type": "stream",
     "text": [
      "진행률:  36%|███▌      | 2647/7357 [80:29:31<132:35:59, 101.35s/it]"
     ]
    },
    {
     "name": "stdout",
     "output_type": "stream",
     "text": [
      "현재 처린된 Author: 1620207, 에러 발생 시간: 2021-12-27 00:21:39.920210\n",
      "Message: chrome not reachable\n",
      "\n"
     ]
    },
    {
     "name": "stderr",
     "output_type": "stream",
     "text": [
      "진행률:  37%|███▋      | 2691/7357 [81:51:39<138:52:42, 107.15s/it]"
     ]
    },
    {
     "name": "stdout",
     "output_type": "stream",
     "text": [
      "현재 처린된 Author: 1628807, 에러 발생 시간: 2021-12-27 01:43:48.021294\n",
      "Message: no such element: Unable to locate element: {\"method\":\"xpath\",\"selector\":\"//*[@id=\"resultsMenu\"]/ul/li[1]/button\"}\n",
      "  (Session info: headless chrome=96.0.4664.110)\n",
      "\n"
     ]
    },
    {
     "name": "stderr",
     "output_type": "stream",
     "text": [
      "진행률:  37%|███▋      | 2751/7357 [83:41:57<104:16:38, 81.50s/it] "
     ]
    },
    {
     "name": "stdout",
     "output_type": "stream",
     "text": [
      "현재 처린된 Author: 1640607, 에러 발생 시간: 2021-12-27 03:34:05.949048\n",
      "Message: no such element: Unable to locate element: {\"method\":\"xpath\",\"selector\":\"//*[@id=\"searchfield\"]\"}\n",
      "  (Session info: headless chrome=96.0.4664.110)\n",
      "\n"
     ]
    },
    {
     "name": "stderr",
     "output_type": "stream",
     "text": [
      "진행률:  39%|███▉      | 2906/7357 [88:23:51<99:59:32, 80.87s/it]  "
     ]
    },
    {
     "name": "stdout",
     "output_type": "stream",
     "text": [
      "현재 처린된 Author: 1671407, 에러 발생 시간: 2021-12-27 08:15:59.859471\n",
      "Message: no such element: Unable to locate element: {\"method\":\"xpath\",\"selector\":\"//*[@id=\"searchfield\"]\"}\n",
      "  (Session info: headless chrome=96.0.4664.110)\n",
      "\n"
     ]
    },
    {
     "name": "stderr",
     "output_type": "stream",
     "text": [
      "진행률:  40%|████      | 2965/7357 [90:11:12<151:12:00, 123.93s/it]"
     ]
    },
    {
     "name": "stdout",
     "output_type": "stream",
     "text": [
      "현재 처린된 Author: 1683007, 에러 발생 시간: 2021-12-27 10:03:20.656050\n",
      "Message: no such element: Unable to locate element: {\"method\":\"xpath\",\"selector\":\"//*[@id=\"resultsMenu\"]/ul/li[1]/button\"}\n",
      "  (Session info: headless chrome=96.0.4664.110)\n",
      "\n"
     ]
    },
    {
     "name": "stderr",
     "output_type": "stream",
     "text": [
      "진행률:  40%|████      | 2966/7357 [90:13:44<161:23:07, 132.31s/it]"
     ]
    },
    {
     "name": "stdout",
     "output_type": "stream",
     "text": [
      "현재 처린된 Author: 1683007, 에러 발생 시간: 2021-12-27 10:05:52.519979\n",
      "Message: no such element: Unable to locate element: {\"method\":\"xpath\",\"selector\":\"//*[@id=\"resultsMenu\"]/ul/li[1]/button\"}\n",
      "  (Session info: headless chrome=96.0.4664.110)\n",
      "\n"
     ]
    },
    {
     "name": "stderr",
     "output_type": "stream",
     "text": [
      "진행률:  40%|████      | 2967/7357 [90:16:15<168:21:22, 138.06s/it]"
     ]
    },
    {
     "name": "stdout",
     "output_type": "stream",
     "text": [
      "현재 처린된 Author: 1683007, 에러 발생 시간: 2021-12-27 10:08:23.987503\n",
      "Message: no such element: Unable to locate element: {\"method\":\"xpath\",\"selector\":\"//*[@id=\"resultsMenu\"]/ul/li[1]/button\"}\n",
      "  (Session info: headless chrome=96.0.4664.110)\n",
      "\n"
     ]
    },
    {
     "name": "stderr",
     "output_type": "stream",
     "text": [
      "진행률:  40%|████      | 2969/7357 [90:17:30<102:46:34, 84.32s/it] "
     ]
    },
    {
     "name": "stdout",
     "output_type": "stream",
     "text": [
      "현재 처린된 Author: 1683207, 에러 발생 시간: 2021-12-27 10:09:38.824799\n",
      "Message: no such element: Unable to locate element: {\"method\":\"xpath\",\"selector\":\"//*[@id=\"searchfield\"]\"}\n",
      "  (Session info: headless chrome=96.0.4664.110)\n",
      "\n"
     ]
    },
    {
     "name": "stderr",
     "output_type": "stream",
     "text": [
      "진행률:  43%|████▎     | 3142/7357 [95:34:50<96:04:42, 82.06s/it]  "
     ]
    },
    {
     "name": "stdout",
     "output_type": "stream",
     "text": [
      "현재 처린된 Author: 1717607, 에러 발생 시간: 2021-12-27 15:26:59.057996\n",
      "Message: no such element: Unable to locate element: {\"method\":\"xpath\",\"selector\":\"//*[@id=\"searchfield\"]\"}\n",
      "  (Session info: headless chrome=96.0.4664.110)\n",
      "\n"
     ]
    },
    {
     "name": "stderr",
     "output_type": "stream",
     "text": [
      "진행률:  44%|████▍     | 3236/7357 [98:26:57<126:32:58, 110.55s/it]"
     ]
    },
    {
     "name": "stdout",
     "output_type": "stream",
     "text": [
      "현재 처린된 Author: 1736207, 에러 발생 시간: 2021-12-27 18:19:06.353808\n",
      "list index out of range\n"
     ]
    },
    {
     "name": "stderr",
     "output_type": "stream",
     "text": [
      "진행률:  46%|████▋     | 3404/7357 [103:34:02<90:40:51, 82.58s/it]  "
     ]
    },
    {
     "name": "stdout",
     "output_type": "stream",
     "text": [
      "현재 처린된 Author: 1769607, 에러 발생 시간: 2021-12-27 23:26:10.540307\n",
      "Message: no such element: Unable to locate element: {\"method\":\"xpath\",\"selector\":\"//*[@id=\"searchfield\"]\"}\n",
      "  (Session info: headless chrome=96.0.4664.110)\n",
      "\n"
     ]
    },
    {
     "name": "stderr",
     "output_type": "stream",
     "text": [
      "진행률:  47%|████▋     | 3444/7357 [104:46:30<89:24:53, 82.26s/it]  "
     ]
    },
    {
     "name": "stdout",
     "output_type": "stream",
     "text": [
      "현재 처린된 Author: 1777407, 에러 발생 시간: 2021-12-28 00:38:39.088469\n",
      "Message: no such element: Unable to locate element: {\"method\":\"xpath\",\"selector\":\"//*[@id=\"searchfield\"]\"}\n",
      "  (Session info: headless chrome=96.0.4664.110)\n",
      "\n"
     ]
    },
    {
     "name": "stderr",
     "output_type": "stream",
     "text": [
      "진행률:  50%|████▉     | 3648/7357 [111:06:08<87:47:47, 85.22s/it]  "
     ]
    },
    {
     "name": "stdout",
     "output_type": "stream",
     "text": [
      "현재 처린된 Author: 1818007, 에러 발생 시간: 2021-12-28 06:58:17.227443\n",
      "Message: no such element: Unable to locate element: {\"method\":\"xpath\",\"selector\":\"//*[@id=\"searchfield\"]\"}\n",
      "  (Session info: headless chrome=96.0.4664.110)\n",
      "\n"
     ]
    },
    {
     "name": "stderr",
     "output_type": "stream",
     "text": [
      "진행률:  51%|█████     | 3748/7357 [114:09:55<120:51:24, 120.56s/it]"
     ]
    },
    {
     "name": "stdout",
     "output_type": "stream",
     "text": [
      "현재 처린된 Author: 1837807, 에러 발생 시간: 2021-12-28 10:02:03.923495\n",
      "Message: no such element: Unable to locate element: {\"method\":\"xpath\",\"selector\":\"//*[@id=\"resultsMenu\"]/ul/li[1]/button\"}\n",
      "  (Session info: headless chrome=96.0.4664.110)\n",
      "\n"
     ]
    },
    {
     "name": "stderr",
     "output_type": "stream",
     "text": [
      "진행률:  51%|█████     | 3749/7357 [114:12:29<131:00:44, 130.72s/it]"
     ]
    },
    {
     "name": "stdout",
     "output_type": "stream",
     "text": [
      "현재 처린된 Author: 1837807, 에러 발생 시간: 2021-12-28 10:04:38.366400\n",
      "Message: no such element: Unable to locate element: {\"method\":\"xpath\",\"selector\":\"//*[@id=\"resultsMenu\"]/ul/li[1]/button\"}\n",
      "  (Session info: headless chrome=96.0.4664.110)\n",
      "\n"
     ]
    },
    {
     "name": "stderr",
     "output_type": "stream",
     "text": [
      "진행률:  51%|█████     | 3750/7357 [114:15:02<137:27:30, 137.19s/it]"
     ]
    },
    {
     "name": "stdout",
     "output_type": "stream",
     "text": [
      "현재 처린된 Author: 1837807, 에러 발생 시간: 2021-12-28 10:07:10.655071\n",
      "Message: no such element: Unable to locate element: {\"method\":\"xpath\",\"selector\":\"//*[@id=\"resultsMenu\"]/ul/li[1]/button\"}\n",
      "  (Session info: headless chrome=96.0.4664.110)\n",
      "\n"
     ]
    },
    {
     "name": "stderr",
     "output_type": "stream",
     "text": [
      "진행률:  51%|█████     | 3768/7357 [114:47:26<78:11:55, 78.44s/it]  "
     ]
    },
    {
     "name": "stdout",
     "output_type": "stream",
     "text": [
      "현재 처린된 Author: 1841207, 에러 발생 시간: 2021-12-28 10:39:34.713860\n",
      "Message: no such element: Unable to locate element: {\"method\":\"xpath\",\"selector\":\"//*[@id=\"searchfield\"]\"}\n",
      "  (Session info: headless chrome=96.0.4664.110)\n",
      "\n"
     ]
    },
    {
     "name": "stderr",
     "output_type": "stream",
     "text": [
      "진행률:  53%|█████▎    | 3903/7357 [118:52:49<80:40:11, 84.08s/it]  "
     ]
    },
    {
     "name": "stdout",
     "output_type": "stream",
     "text": [
      "현재 처린된 Author: 1868007, 에러 발생 시간: 2021-12-28 14:44:57.659321\n",
      "Message: no such element: Unable to locate element: {\"method\":\"xpath\",\"selector\":\"//*[@id=\"resultsMenu\"]/ul/li[1]/button\"}\n",
      "  (Session info: headless chrome=96.0.4664.110)\n",
      "\n"
     ]
    },
    {
     "name": "stderr",
     "output_type": "stream",
     "text": [
      "진행률:  53%|█████▎    | 3931/7357 [119:42:41<76:37:48, 80.52s/it]  "
     ]
    },
    {
     "name": "stdout",
     "output_type": "stream",
     "text": [
      "현재 처린된 Author: 1873407, 에러 발생 시간: 2021-12-28 15:34:50.124546\n",
      "Message: no such element: Unable to locate element: {\"method\":\"xpath\",\"selector\":\"//*[@id=\"searchfield\"]\"}\n",
      "  (Session info: headless chrome=96.0.4664.110)\n",
      "\n"
     ]
    },
    {
     "name": "stderr",
     "output_type": "stream",
     "text": [
      "진행률:  57%|█████▋    | 4174/7357 [127:12:11<73:50:59, 83.52s/it]  "
     ]
    },
    {
     "name": "stdout",
     "output_type": "stream",
     "text": [
      "현재 처린된 Author: 1921807, 에러 발생 시간: 2021-12-28 23:04:20.088962\n",
      "Message: no such element: Unable to locate element: {\"method\":\"xpath\",\"selector\":\"//*[@id=\"searchfield\"]\"}\n",
      "  (Session info: headless chrome=96.0.4664.110)\n",
      "\n"
     ]
    },
    {
     "name": "stderr",
     "output_type": "stream",
     "text": [
      "진행률:  57%|█████▋    | 4230/7357 [128:55:58<71:45:58, 82.62s/it]  "
     ]
    },
    {
     "name": "stdout",
     "output_type": "stream",
     "text": [
      "현재 처린된 Author: 1932807, 에러 발생 시간: 2021-12-29 00:48:06.923851\n",
      "Message: no such element: Unable to locate element: {\"method\":\"xpath\",\"selector\":\"//*[@id=\"searchfield\"]\"}\n",
      "  (Session info: headless chrome=96.0.4664.110)\n",
      "\n"
     ]
    },
    {
     "name": "stderr",
     "output_type": "stream",
     "text": [
      "진행률:  58%|█████▊    | 4233/7357 [128:59:49<61:32:32, 70.92s/it]"
     ]
    },
    {
     "name": "stdout",
     "output_type": "stream",
     "text": [
      "현재 처린된 Author: 1933207, 에러 발생 시간: 2021-12-29 00:51:58.128392\n",
      "Message: no such element: Unable to locate element: {\"method\":\"xpath\",\"selector\":\"//*[@id=\"searchfield\"]\"}\n",
      "  (Session info: headless chrome=96.0.4664.110)\n",
      "\n"
     ]
    },
    {
     "name": "stderr",
     "output_type": "stream",
     "text": [
      "진행률:  60%|██████    | 4421/7357 [134:54:43<65:51:09, 80.75s/it]  "
     ]
    },
    {
     "name": "stdout",
     "output_type": "stream",
     "text": [
      "현재 처린된 Author: 1970607, 에러 발생 시간: 2021-12-29 06:46:52.324965\n",
      "Message: no such element: Unable to locate element: {\"method\":\"xpath\",\"selector\":\"//*[@id=\"searchfield\"]\"}\n",
      "  (Session info: headless chrome=96.0.4664.110)\n",
      "\n"
     ]
    },
    {
     "name": "stderr",
     "output_type": "stream",
     "text": [
      "진행률:  61%|██████    | 4473/7357 [136:37:01<117:42:28, 146.93s/it]"
     ]
    },
    {
     "name": "stdout",
     "output_type": "stream",
     "text": [
      "현재 처린된 Author: 1980807, 에러 발생 시간: 2021-12-29 08:29:09.871340\n",
      "Message: no such element: Unable to locate element: {\"method\":\"xpath\",\"selector\":\"//*[@id=\"resultsMenu\"]/ul/li[1]/button\"}\n",
      "  (Session info: headless chrome=96.0.4664.110)\n",
      "\n"
     ]
    },
    {
     "name": "stderr",
     "output_type": "stream",
     "text": [
      "진행률:  61%|██████    | 4474/7357 [136:39:48<122:22:40, 152.81s/it]"
     ]
    },
    {
     "name": "stdout",
     "output_type": "stream",
     "text": [
      "현재 처린된 Author: 1980807, 에러 발생 시간: 2021-12-29 08:31:56.411121\n",
      "Message: no such element: Unable to locate element: {\"method\":\"xpath\",\"selector\":\"//*[@id=\"resultsMenu\"]/ul/li[1]/button\"}\n",
      "  (Session info: headless chrome=96.0.4664.110)\n",
      "\n"
     ]
    },
    {
     "name": "stderr",
     "output_type": "stream",
     "text": [
      "진행률:  61%|██████    | 4475/7357 [136:42:47<128:48:00, 160.89s/it]"
     ]
    },
    {
     "name": "stdout",
     "output_type": "stream",
     "text": [
      "현재 처린된 Author: 1980807, 에러 발생 시간: 2021-12-29 08:34:56.141349\n",
      "Message: no such element: Unable to locate element: {\"method\":\"xpath\",\"selector\":\"//*[@id=\"resultsMenu\"]/ul/li[1]/button\"}\n",
      "  (Session info: headless chrome=96.0.4664.110)\n",
      "\n"
     ]
    },
    {
     "name": "stderr",
     "output_type": "stream",
     "text": [
      "진행률:  61%|██████    | 4478/7357 [136:50:52<128:12:07, 160.31s/it]"
     ]
    },
    {
     "name": "stdout",
     "output_type": "stream",
     "text": [
      "현재 처린된 Author: 1981207, 에러 발생 시간: 2021-12-29 08:43:00.547003\n",
      "Message: no such element: Unable to locate element: {\"method\":\"xpath\",\"selector\":\"//*[@id=\"resultsMenu\"]/ul/li[1]/button\"}\n",
      "  (Session info: headless chrome=96.0.4664.110)\n",
      "\n"
     ]
    },
    {
     "name": "stderr",
     "output_type": "stream",
     "text": [
      "진행률:  61%|██████    | 4479/7357 [136:53:27<127:01:11, 158.89s/it]"
     ]
    },
    {
     "name": "stdout",
     "output_type": "stream",
     "text": [
      "현재 처린된 Author: 1981207, 에러 발생 시간: 2021-12-29 08:45:36.110551\n",
      "Message: no such element: Unable to locate element: {\"method\":\"xpath\",\"selector\":\"//*[@id=\"resultsMenu\"]/ul/li[1]/button\"}\n",
      "  (Session info: headless chrome=96.0.4664.110)\n",
      "\n"
     ]
    },
    {
     "name": "stderr",
     "output_type": "stream",
     "text": [
      "진행률:  61%|██████    | 4480/7357 [136:53:43<92:36:46, 115.89s/it] "
     ]
    },
    {
     "name": "stdout",
     "output_type": "stream",
     "text": [
      "현재 처린된 Author: 1981207, 에러 발생 시간: 2021-12-29 08:45:51.668497\n",
      "Message: no such element: Unable to locate element: {\"method\":\"xpath\",\"selector\":\"//*[@id=\"searchfield\"]\"}\n",
      "  (Session info: headless chrome=96.0.4664.110)\n",
      "\n"
     ]
    },
    {
     "name": "stderr",
     "output_type": "stream",
     "text": [
      "진행률:  61%|██████    | 4481/7357 [136:56:23<103:17:20, 129.29s/it]"
     ]
    },
    {
     "name": "stdout",
     "output_type": "stream",
     "text": [
      "현재 처린된 Author: 1981207, 에러 발생 시간: 2021-12-29 08:48:32.235541\n",
      "Message: no such element: Unable to locate element: {\"method\":\"xpath\",\"selector\":\"//*[@id=\"resultsMenu\"]/ul/li[1]/button\"}\n",
      "  (Session info: headless chrome=96.0.4664.110)\n",
      "\n"
     ]
    },
    {
     "name": "stderr",
     "output_type": "stream",
     "text": [
      "진행률:  61%|██████▏   | 4522/7357 [138:11:45<99:40:35, 126.57s/it] "
     ]
    },
    {
     "name": "stdout",
     "output_type": "stream",
     "text": [
      "현재 처린된 Author: 1989207, 에러 발생 시간: 2021-12-29 10:03:54.207775\n",
      "Message: no such element: Unable to locate element: {\"method\":\"xpath\",\"selector\":\"//*[@id=\"resultsMenu\"]/ul/li[1]/button\"}\n",
      "  (Session info: headless chrome=96.0.4664.110)\n",
      "\n"
     ]
    },
    {
     "name": "stderr",
     "output_type": "stream",
     "text": [
      "진행률:  61%|██████▏   | 4523/7357 [138:14:21<106:36:43, 135.43s/it]"
     ]
    },
    {
     "name": "stdout",
     "output_type": "stream",
     "text": [
      "현재 처린된 Author: 1989207, 에러 발생 시간: 2021-12-29 10:06:30.296715\n",
      "Message: no such element: Unable to locate element: {\"method\":\"xpath\",\"selector\":\"//*[@id=\"resultsMenu\"]/ul/li[1]/button\"}\n",
      "  (Session info: headless chrome=96.0.4664.110)\n",
      "\n"
     ]
    },
    {
     "name": "stderr",
     "output_type": "stream",
     "text": [
      "진행률:  61%|██████▏   | 4524/7357 [138:16:58<111:29:25, 141.68s/it]"
     ]
    },
    {
     "name": "stdout",
     "output_type": "stream",
     "text": [
      "현재 처린된 Author: 1989207, 에러 발생 시간: 2021-12-29 10:09:06.547679\n",
      "Message: no such element: Unable to locate element: {\"method\":\"xpath\",\"selector\":\"//*[@id=\"resultsMenu\"]/ul/li[1]/button\"}\n",
      "  (Session info: headless chrome=96.0.4664.110)\n",
      "\n"
     ]
    },
    {
     "name": "stderr",
     "output_type": "stream",
     "text": [
      "진행률:  62%|██████▏   | 4525/7357 [138:19:34<114:48:39, 145.95s/it]"
     ]
    },
    {
     "name": "stdout",
     "output_type": "stream",
     "text": [
      "현재 처린된 Author: 1989207, 에러 발생 시간: 2021-12-29 10:11:42.460598\n",
      "Message: no such element: Unable to locate element: {\"method\":\"xpath\",\"selector\":\"//*[@id=\"resultsMenu\"]/ul/li[1]/button\"}\n",
      "  (Session info: headless chrome=96.0.4664.110)\n",
      "\n"
     ]
    },
    {
     "name": "stderr",
     "output_type": "stream",
     "text": [
      "진행률:  62%|██████▏   | 4526/7357 [138:22:08<116:46:01, 148.49s/it]"
     ]
    },
    {
     "name": "stdout",
     "output_type": "stream",
     "text": [
      "현재 처린된 Author: 1989207, 에러 발생 시간: 2021-12-29 10:14:16.870326\n",
      "Message: no such element: Unable to locate element: {\"method\":\"xpath\",\"selector\":\"//*[@id=\"resultsMenu\"]/ul/li[1]/button\"}\n",
      "  (Session info: headless chrome=96.0.4664.110)\n",
      "\n"
     ]
    },
    {
     "name": "stderr",
     "output_type": "stream",
     "text": [
      "진행률:  62%|██████▏   | 4527/7357 [138:24:47<119:05:42, 151.50s/it]"
     ]
    },
    {
     "name": "stdout",
     "output_type": "stream",
     "text": [
      "현재 처린된 Author: 1989207, 에러 발생 시간: 2021-12-29 10:16:55.401798\n",
      "Message: no such element: Unable to locate element: {\"method\":\"xpath\",\"selector\":\"//*[@id=\"resultsMenu\"]/ul/li[1]/button\"}\n",
      "  (Session info: headless chrome=96.0.4664.110)\n",
      "\n"
     ]
    },
    {
     "name": "stderr",
     "output_type": "stream",
     "text": [
      "진행률:  66%|██████▌   | 4823/7357 [147:26:59<71:20:20, 101.35s/it] "
     ]
    },
    {
     "name": "stdout",
     "output_type": "stream",
     "text": [
      "현재 처린된 Author: 2048207, 에러 발생 시간: 2021-12-29 19:19:07.728756\n",
      "Message: chrome not reachable\n",
      "\n"
     ]
    },
    {
     "name": "stderr",
     "output_type": "stream",
     "text": [
      "진행률:  66%|██████▋   | 4886/7357 [149:21:16<54:41:19, 79.68s/it] "
     ]
    },
    {
     "name": "stdout",
     "output_type": "stream",
     "text": [
      "현재 처린된 Author: 2060607, 에러 발생 시간: 2021-12-29 21:13:24.493899\n",
      "Message: no such element: Unable to locate element: {\"method\":\"xpath\",\"selector\":\"//*[@id=\"searchfield\"]\"}\n",
      "  (Session info: headless chrome=96.0.4664.110)\n",
      "\n"
     ]
    },
    {
     "name": "stderr",
     "output_type": "stream",
     "text": [
      "진행률:  70%|██████▉   | 5126/7357 [156:48:08<50:52:01, 82.08s/it] "
     ]
    },
    {
     "name": "stdout",
     "output_type": "stream",
     "text": [
      "현재 처린된 Author: 2108407, 에러 발생 시간: 2021-12-30 04:40:17.330836\n",
      "Message: no such element: Unable to locate element: {\"method\":\"xpath\",\"selector\":\"//*[@id=\"searchfield\"]\"}\n",
      "  (Session info: headless chrome=96.0.4664.110)\n",
      "\n"
     ]
    },
    {
     "name": "stderr",
     "output_type": "stream",
     "text": [
      "진행률:  71%|███████   | 5235/7357 [160:07:17<47:41:08, 80.90s/it] "
     ]
    },
    {
     "name": "stdout",
     "output_type": "stream",
     "text": [
      "현재 처린된 Author: 2130007, 에러 발생 시간: 2021-12-30 07:59:25.863655\n",
      "Message: no such element: Unable to locate element: {\"method\":\"xpath\",\"selector\":\"//*[@id=\"searchfield\"]\"}\n",
      "  (Session info: headless chrome=96.0.4664.110)\n",
      "\n"
     ]
    },
    {
     "name": "stderr",
     "output_type": "stream",
     "text": [
      "진행률:  71%|███████   | 5239/7357 [160:13:12<44:45:14, 76.07s/it] "
     ]
    },
    {
     "name": "stdout",
     "output_type": "stream",
     "text": [
      "현재 처린된 Author: 2130607, 에러 발생 시간: 2021-12-30 08:05:21.241426\n",
      "Message: no such element: Unable to locate element: {\"method\":\"xpath\",\"selector\":\"//*[@id=\"searchfield\"]\"}\n",
      "  (Session info: headless chrome=96.0.4664.110)\n",
      "\n"
     ]
    },
    {
     "name": "stderr",
     "output_type": "stream",
     "text": [
      "진행률:  72%|███████▏  | 5271/7357 [161:09:56<45:30:06, 78.53s/it] "
     ]
    },
    {
     "name": "stdout",
     "output_type": "stream",
     "text": [
      "현재 처린된 Author: 2136807, 에러 발생 시간: 2021-12-30 09:02:04.773275\n",
      "Message: no such element: Unable to locate element: {\"method\":\"xpath\",\"selector\":\"//*[@id=\"searchfield\"]\"}\n",
      "  (Session info: headless chrome=96.0.4664.110)\n",
      "\n"
     ]
    },
    {
     "name": "stderr",
     "output_type": "stream",
     "text": [
      "진행률:  72%|███████▏  | 5304/7357 [162:10:08<69:07:09, 121.20s/it]"
     ]
    },
    {
     "name": "stdout",
     "output_type": "stream",
     "text": [
      "현재 처린된 Author: 2143207, 에러 발생 시간: 2021-12-30 10:02:16.510525\n",
      "Message: no such element: Unable to locate element: {\"method\":\"xpath\",\"selector\":\"//*[@id=\"resultsMenu\"]/ul/li[1]/button\"}\n",
      "  (Session info: headless chrome=96.0.4664.110)\n",
      "\n"
     ]
    },
    {
     "name": "stderr",
     "output_type": "stream",
     "text": [
      "진행률:  72%|███████▏  | 5305/7357 [162:12:40<74:21:54, 130.47s/it]"
     ]
    },
    {
     "name": "stdout",
     "output_type": "stream",
     "text": [
      "현재 처린된 Author: 2143207, 에러 발생 시간: 2021-12-30 10:04:48.587862\n",
      "Message: no such element: Unable to locate element: {\"method\":\"xpath\",\"selector\":\"//*[@id=\"resultsMenu\"]/ul/li[1]/button\"}\n",
      "  (Session info: headless chrome=96.0.4664.110)\n",
      "\n"
     ]
    },
    {
     "name": "stderr",
     "output_type": "stream",
     "text": [
      "진행률:  72%|███████▏  | 5306/7357 [162:15:14<78:28:08, 137.73s/it]"
     ]
    },
    {
     "name": "stdout",
     "output_type": "stream",
     "text": [
      "현재 처린된 Author: 2143207, 에러 발생 시간: 2021-12-30 10:07:23.276852\n",
      "Message: no such element: Unable to locate element: {\"method\":\"xpath\",\"selector\":\"//*[@id=\"resultsMenu\"]/ul/li[1]/button\"}\n",
      "  (Session info: headless chrome=96.0.4664.110)\n",
      "\n"
     ]
    },
    {
     "name": "stderr",
     "output_type": "stream",
     "text": [
      "진행률:  72%|███████▏  | 5333/7357 [163:05:44<51:03:03, 90.80s/it] "
     ]
    },
    {
     "name": "stdout",
     "output_type": "stream",
     "text": [
      "현재 처린된 Author: 2148407, 에러 발생 시간: 2021-12-30 10:57:53.300155\n",
      "Message: no such element: Unable to locate element: {\"method\":\"xpath\",\"selector\":\"//*[@id=\"resultsMenu\"]/ul/li[1]/button\"}\n",
      "  (Session info: headless chrome=96.0.4664.110)\n",
      "\n"
     ]
    },
    {
     "name": "stderr",
     "output_type": "stream",
     "text": [
      "진행률:  74%|███████▍  | 5459/7357 [166:51:46<42:09:18, 79.96s/it] "
     ]
    },
    {
     "name": "stdout",
     "output_type": "stream",
     "text": [
      "현재 처린된 Author: 2173407, 에러 발생 시간: 2021-12-30 14:43:54.731248\n",
      "Message: no such element: Unable to locate element: {\"method\":\"xpath\",\"selector\":\"//*[@id=\"searchfield\"]\"}\n",
      "  (Session info: headless chrome=96.0.4664.110)\n",
      "\n"
     ]
    },
    {
     "name": "stderr",
     "output_type": "stream",
     "text": [
      "진행률:  76%|███████▌  | 5557/7357 [169:50:36<40:37:31, 81.25s/it] "
     ]
    },
    {
     "name": "stdout",
     "output_type": "stream",
     "text": [
      "현재 처린된 Author: 2192807, 에러 발생 시간: 2021-12-30 17:42:45.019489\n",
      "Message: no such element: Unable to locate element: {\"method\":\"xpath\",\"selector\":\"//*[@id=\"searchfield\"]\"}\n",
      "  (Session info: headless chrome=96.0.4664.110)\n",
      "\n"
     ]
    },
    {
     "name": "stderr",
     "output_type": "stream",
     "text": [
      "진행률:  77%|███████▋  | 5668/7357 [173:16:54<60:57:19, 129.92s/it]"
     ]
    },
    {
     "name": "stdout",
     "output_type": "stream",
     "text": [
      "현재 처린된 Author: 2214807, 에러 발생 시간: 2021-12-30 21:09:03.361521\n",
      "Message: no such element: Unable to locate element: {\"method\":\"xpath\",\"selector\":\"//*[@id=\"resultsMenu\"]/ul/li[1]/button\"}\n",
      "  (Session info: headless chrome=96.0.4664.110)\n",
      "\n"
     ]
    }
   ],
   "source": [
    "from selenium import webdriver\n",
    "import re, math, datetime, time\n",
    "from pymongo import MongoClient\n",
    "from tqdm import tqdm\n",
    "\n",
    "client = MongoClient('203.255.92.141:27017')\n",
    "\n",
    "scopus_db = client['SCOPUS'] \n",
    "scopus_col = scopus_db['Author']\n",
    "\n",
    "'''\n",
    "check_query = { 'check': { '$ne': 1 } } #check가 1이 아닌 다른 값 목록\n",
    "add_label = { '$set': { 'check': 0 } } #check를 0으로 추가\n",
    "scopus_col.update_many(check_query, add_label)\n",
    "'''\n",
    "\n",
    "change_list_count = scopus_col.count_documents({ '$and': [{ '_id': {'$ne': \"\"} }, { 'check':0 }]}) #check가 0인 문서 수\n",
    "T = math.ceil(change_list_count/200)\n",
    "print(f'처리할 Author: {change_list_count}, 반복 수: {T}')\n",
    "\n",
    "url = 'https://www.scopus.com/search/form.uri?display=advanced'\n",
    "path = 'C:/Users/Hyeuk/Desktop/NetDB/Git_code/chromedriver/chromedriver.exe'\n",
    "options = webdriver.ChromeOptions()\n",
    "options.add_argument('headless')\n",
    "options.add_argument('User-Agent=Mozilla/5.0 (Windows NT 10.0; Win64; x64) AppleWebKit/537.36 (KHTML, like Gecko) Chrome/96.0.4664.110 Safari/537.36')\n",
    "options.add_argument('window-size=1920x1080')\n",
    "options.add_argument(\"disable-gpu\")\n",
    "\n",
    "for col_case in tqdm(range(1, T+1), desc = '진행률'):\n",
    "\n",
    "    list_count = scopus_col.count_documents({'check':1}) #check가 1인 문서 수\n",
    "\n",
    "    try:\n",
    "        start = time.time()\n",
    "        change_list = scopus_col.find({ '$and': [{ '_id': {'$ne': \"\"} }, { 'check':0 }]}, '_id') #check = 0인 col\n",
    "\n",
    "        au_id = '' #SCOPUS AU-ID 검색\n",
    "        au_id_list = [] #SCOPUS ID 목록\n",
    "\n",
    "        for x in change_list[0:200]:\n",
    "            au_id += ('AU-ID('+ x['_id'] + ')')\n",
    "            au_id_list.append(x['_id'])\n",
    "\n",
    "        driver = webdriver.Chrome(path, options=options)\n",
    "        driver.get(url=url)\n",
    "\n",
    "        #scopus id 검색\n",
    "        driver.find_element_by_xpath('//*[@id=\"searchfield\"]').send_keys(au_id)\n",
    "        driver.find_element_by_xpath('//*[@id=\"advSearch\"]').click()\n",
    "\n",
    "        #edit에서 전체 저자 목록\n",
    "        time.sleep(2)\n",
    "        driver.find_element_by_xpath('//*[@id=\"resultsMenu\"]/ul/li[1]/button').click()\n",
    "\n",
    "        author_list = driver.find_element_by_xpath('//*[@id=\"searchfield\"]').text\n",
    "\n",
    "        author_fname = re.findall('\"(.+?)\"', author_list)\n",
    "        \n",
    "        for i in range(0, len(au_id_list)):\n",
    "            id_query = {'$and': [{ '_id':au_id_list[i] }, { 'check':0 }]}\n",
    "            change_name = { '$set': { 'name': author_fname[i] } }\n",
    "            change_label = { '$set': { 'check': 1 } }\n",
    "            \n",
    "            scopus_col.update_many(id_query, change_name)\n",
    "            scopus_col.update_many(id_query, change_label)\n",
    "        \n",
    "        driver.quit()\n",
    "        end = time.time()\n",
    "        #print(f'현재 처린된 Author: {list_count}, 처리 시간: {end - start:.5f} sec')\n",
    "\n",
    "    except Exception as e:\n",
    "        driver.quit()\n",
    "        print(f'현재 처린된 Author: {list_count}, 에러 발생 시간: {datetime.datetime.today()}')\n",
    "        print(e)\n",
    "\n",
    "print('완료')\n"
   ]
  }
 ],
 "metadata": {
  "interpreter": {
   "hash": "585faf38c955f8b8b4c65826ea92b635b489103704cbd270d7c8b9cd64b78f88"
  },
  "kernelspec": {
   "display_name": "Python 3.6.8 64-bit ('craw': conda)",
   "name": "python3"
  },
  "language_info": {
   "codemirror_mode": {
    "name": "ipython",
    "version": 3
   },
   "file_extension": ".py",
   "mimetype": "text/x-python",
   "name": "python",
   "nbconvert_exporter": "python",
   "pygments_lexer": "ipython3",
   "version": "3.6.8"
  },
  "orig_nbformat": 4
 },
 "nbformat": 4,
 "nbformat_minor": 2
}
